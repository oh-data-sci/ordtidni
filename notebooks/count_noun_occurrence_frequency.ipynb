{
 "cells": [
  {
   "cell_type": "code",
   "execution_count": 46,
   "metadata": {},
   "outputs": [],
   "source": [
    "# import pandas as pden \n",
    "from pathlib import Path\n",
    "from tqdm import tqdm\n",
    "import modin as pd"
   ]
  },
  {
   "cell_type": "code",
   "execution_count": 47,
   "metadata": {},
   "outputs": [],
   "source": [
    "# input\n",
    "data_dir = Path(\"/Users/oholm/annad/ordtidni/Gigaword/output/\")\n",
    "input_file_path = data_dir.glob('*/**/*')\n",
    "filepaths = [item for item in input_file_path if (item.is_file() and str(item).endswith('.parquet'))]\n",
    "# output\n",
    "output_filepath = data_dir/'word_occurrence_counts.parquet'"
   ]
  },
  {
   "cell_type": "code",
   "execution_count": null,
   "metadata": {},
   "outputs": [
    {
     "name": "stderr",
     "output_type": "stream",
     "text": [
      "  0%|          | 0/661 [00:00<?, ?it/s]"
     ]
    },
    {
     "name": "stdout",
     "output_type": "stream",
     "text": [
      "about to process 661 files\n",
      "-------------------------------- start iteration over files --------------------------------\n"
     ]
    },
    {
     "name": "stderr",
     "output_type": "stream",
     "text": [
      " 90%|████████▉ | 593/661 [40:37<13:28, 11.90s/it]"
     ]
    }
   ],
   "source": [
    "%%time\n",
    "print('about to process', len(filepaths), 'files')\n",
    "word_occurance_count = pd.DataFrame({'occurance_count':[0]}, index=['barn']) # cold start dataframe\n",
    "# display(word_occurance_count)\n",
    "print('----'*8, 'start iteration over files', '----'*8)\n",
    "for filepath in tqdm(filepaths):\n",
    "#     print(filepath.parent)\n",
    "    corpus_doc = pd.read_parquet(filepath)\n",
    "#     print('read in dataframe')\n",
    "#     display(corpus_doc.head(2))\n",
    "    noun_mask = corpus_doc['POS'].str.startswith('n')\n",
    "#     print('there are', sum(noun_mask), 'nouns in the set')\n",
    "    nouns_only_df = corpus_doc[noun_mask]\n",
    "#     print('nouns only')\n",
    "#     display(nouns_only_df.sample(3))\n",
    "#     all_nouns_list = nouns_only_df['Lemma'].unique()\n",
    "    noun_occurrence_count =\\\n",
    "        nouns_only_df[['Lemma', 'POS']]\\\n",
    "        .groupby(by='Lemma')\\\n",
    "        .count()\\\n",
    "        ['POS']\\\n",
    "        .rename('additions')\\\n",
    "        \n",
    "    word_occurance_count = pd.concat([word_occurance_count, noun_occurrence_count], axis=1).fillna(0)\n",
    "    word_occurance_count['occurance_count'] = word_occurance_count['occurance_count'] + word_occurance_count['additions']\n",
    "    word_occurance_count.drop('additions', axis=1,inplace=True)\n",
    "\n",
    "#     print('there are', len(word_occurance_count), 'noun lemmas')\n",
    "\n",
    "output_filepath = data_dir/'word_occurrence_counts.parquet'\n",
    "word_occurance_count.to_parquet(output_filepath)"
   ]
  },
  {
   "cell_type": "code",
   "execution_count": 19,
   "metadata": {},
   "outputs": [
    {
     "data": {
      "text/plain": [
       "(28420, 1)"
      ]
     },
     "execution_count": 19,
     "metadata": {},
     "output_type": "execute_result"
    }
   ],
   "source": [
    "word_occurance_count.shape"
   ]
  },
  {
   "cell_type": "code",
   "execution_count": null,
   "metadata": {},
   "outputs": [],
   "source": [
    "top10_nouns_freq = word_occurance_count.sort_values(by='occurance_count', ascending=False).head(60).reset_index()\n",
    "top10_nouns_freq"
   ]
  },
  {
   "cell_type": "code",
   "execution_count": 27,
   "metadata": {},
   "outputs": [
    {
     "data": {
      "text/plain": [
       "0"
      ]
     },
     "execution_count": 27,
     "metadata": {},
     "output_type": "execute_result"
    }
   ],
   "source": [
    "print('there are', sum(word_occurance_count['occurance_count'] < 2.0), 'single occurence lemmas in corpus'"
   ]
  },
  {
   "cell_type": "code",
   "execution_count": null,
   "metadata": {},
   "outputs": [],
   "source": []
  }
 ],
 "metadata": {
  "kernelspec": {
   "display_name": "Python 3",
   "language": "python",
   "name": "python3"
  },
  "language_info": {
   "codemirror_mode": {
    "name": "ipython",
    "version": 3
   },
   "file_extension": ".py",
   "mimetype": "text/x-python",
   "name": "python",
   "nbconvert_exporter": "python",
   "pygments_lexer": "ipython3",
   "version": "3.7.5"
  }
 },
 "nbformat": 4,
 "nbformat_minor": 4
}
