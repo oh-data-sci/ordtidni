{
 "cells": [
  {
   "cell_type": "code",
   "execution_count": 1,
   "metadata": {},
   "outputs": [],
   "source": [
    "import os\n",
    "import pandas as pd\n",
    "import re\n",
    "import xml.etree.ElementTree as et\n",
    "\n",
    "from xml_utilities import scrape_directory_tree\n",
    "from xml_utilities import list_files_by_size\n",
    "from xml_utilities import get_root_tag\n",
    "from xml_utilities import get_text_paragraphs\n",
    "from xml_utilities import get_text_divs\n",
    "from xml_utilities import get_div_paragraphs\n",
    "from xml_utilities import get_paragraphs_sentences\n",
    "from xml_utilities import get_sentence_lemmas\n",
    "from xml_utilities import get_sentence_words\n",
    "from xml_utilities import get_paragraph_lemmas\n",
    "from xml_utilities import get_paragraph_words\n",
    "from xml_utilities import get_sentence_lemma_word_pos"
   ]
  },
  {
   "cell_type": "code",
   "execution_count": 2,
   "metadata": {},
   "outputs": [],
   "source": [
    "# establish the data folder:\n",
    "USER_HOME = os.path.expanduser('~')\n",
    "# path to root directory of the project.\n",
    "BASE_DIR = os.path.join(USER_HOME, 'annad/ordtidni/') \n",
    "#BASE_DIR = os.path.join('.', '..') \n",
    "DATA_DIR = os.path.join(BASE_DIR, 'data/')\n",
    "namespace = {'tei': 'http://www.tei-c.org/ns/1.0'} # constant"
   ]
  },
  {
   "cell_type": "code",
   "execution_count": 3,
   "metadata": {},
   "outputs": [
    {
     "name": "stdout",
     "output_type": "stream",
     "text": [
      "found 343 files ending in xml\n",
      "about to parse 343 xml files, e.g. ['/Users/oholm/annad/ordtidni/data/G-15-3162012.xml', '/Users/oholm/annad/ordtidni/data/10/G-25-2500475.xml']\n"
     ]
    }
   ],
   "source": [
    "xml_filepaths = scrape_directory_tree(DATA_DIR, 'xml')\n",
    "num_files = len(xml_filepaths)\n",
    "print('about to parse', \n",
    "      num_files, \n",
    "      'xml files, e.g.', \n",
    "      xml_filepaths[0:2])"
   ]
  },
  {
   "cell_type": "code",
   "execution_count": 20,
   "metadata": {},
   "outputs": [
    {
     "name": "stdout",
     "output_type": "stream",
     "text": [
      "found 37454 lemmas, words, pos in 343 files\n"
     ]
    }
   ],
   "source": [
    "total_df = pd.DataFrame(columns=['lemma', 'word', 'pos'])\n",
    "for filepath in xml_filepaths:\n",
    "    root = get_root_tag(filepath)\n",
    "    divs = get_text_divs(root,namespace)\n",
    "    pars = get_div_paragraphs(divs, namespace)\n",
    "    sentences = get_paragraphs_sentences(pars, namespace)\n",
    "    file_df = get_sentence_lemma_word_pos(sentences, namespace)\n",
    "    #print('read', len(file_df), 'rows from', filepath)\n",
    "    total_df = total_df.append(file_df, ignore_index=True)\n",
    "print('found', len(total_df), 'lemmas, words, pos in', num_files, 'files')"
   ]
  },
  {
   "cell_type": "code",
   "execution_count": null,
   "metadata": {},
   "outputs": [],
   "source": []
  }
 ],
 "metadata": {
  "kernelspec": {
   "display_name": "Python 3",
   "language": "python",
   "name": "python3"
  },
  "language_info": {
   "codemirror_mode": {
    "name": "ipython",
    "version": 3
   },
   "file_extension": ".py",
   "mimetype": "text/x-python",
   "name": "python",
   "nbconvert_exporter": "python",
   "pygments_lexer": "ipython3",
   "version": "3.7.2"
  }
 },
 "nbformat": 4,
 "nbformat_minor": 2
}
