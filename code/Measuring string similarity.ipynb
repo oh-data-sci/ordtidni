{
 "cells": [
  {
   "cell_type": "markdown",
   "metadata": {},
   "source": [
    "# Measuring string similarity - what does it mean for two strings to be similar?"
   ]
  },
  {
   "cell_type": "markdown",
   "metadata": {},
   "source": [
    "We are going to look at three different notions of similarity for strings of text:\n",
    "\n",
    " - **Length of longest common substring**\n",
    " - **Levenshtein distance** (often called \"edit distance\")\n",
    " - **Jaccard similarity of character shingles**\n",
    "\n",
    "The three methods are all _character-based_ - in this notebook we won't look at anything based on words (such as similarity measures that use tf/idf). There are _many_ different ways to measure string similarity, but these three should get you started. \n",
    "\n",
    "You will need these things installed: `strsim`, `difflib` and `nltk`."
   ]
  },
  {
   "cell_type": "code",
   "execution_count": 1,
   "metadata": {},
   "outputs": [],
   "source": [
    "import pandas as pd\n",
    "pd.set_option('display.max_colwidth', -1)  # I want to see all my text strings, not have them annoyingly truncated\n"
   ]
  },
  {
   "cell_type": "markdown",
   "metadata": {},
   "source": [
    "### Length of longest common substring"
   ]
  },
  {
   "cell_type": "markdown",
   "metadata": {},
   "source": [
    "A conceptually simple way to measure how similar two strings are is to find the longest substring that they have in common.\n",
    "\n",
    "For example, for the news headlines\n",
    "\n",
    "> \"With flags, song, pride, French celebrate unifying victory\"\n",
    "\n",
    "and\n",
    "\n",
    "> \"BREAKING: With flags, song, pride, French celebrate World Cup victory\"\n",
    "\n",
    "the longest common substring is\n",
    "\n",
    "> \"With flags, song, pride, French celebrate \"\n",
    "\n",
    "This kind of string matching will deal with the kind of cutting and pasting we see a lot in tweets, and in news headlines in Analytics - particularly thanks to syndication.\n",
    "\n",
    "To find the longest common substring, we can use a `SequenceMatcher` object from the `difflib` library."
   ]
  },
  {
   "cell_type": "code",
   "execution_count": 2,
   "metadata": {},
   "outputs": [
    {
     "name": "stdout",
     "output_type": "stream",
     "text": [
      "Match(a=0, b=10, size=42)\n"
     ]
    }
   ],
   "source": [
    "from difflib import SequenceMatcher\n",
    "\n",
    "str1 = \"With flags, song, pride, French celebrate unifying victory\"\n",
    "str2 = \"BREAKING: With flags, song, pride, French celebrate World Cup victory\"\n",
    "\n",
    "# The arguments to find_longest_match tell the SequenceMatcher which sections of the strings to look in\n",
    "match = SequenceMatcher(isjunk=None, a=str1, b=str2, autojunk=False).find_longest_match(0, len(str1), 0, len(str2))\n",
    "\n",
    "print(match)"
   ]
  },
  {
   "cell_type": "markdown",
   "metadata": {},
   "source": [
    "This result tells us that the longest common substring has length 42 and appears at offset 0 in the first string and offset 10 in the second string. We can use that to extract the matching bit:"
   ]
  },
  {
   "cell_type": "code",
   "execution_count": 3,
   "metadata": {},
   "outputs": [
    {
     "name": "stdout",
     "output_type": "stream",
     "text": [
      "With flags, song, pride, French celebrate \n",
      "With flags, song, pride, French celebrate \n"
     ]
    }
   ],
   "source": [
    "print(str1[match.a : match.a + match.size])\n",
    "print(str2[match.b : match.b + match.size])"
   ]
  },
  {
   "cell_type": "markdown",
   "metadata": {},
   "source": [
    "**Note how we used `autojunk=False`**. If you don't do that, SequenceMatcher will apply some \"autojunk heuristic\" (which you can read about [here](https://docs.python.org/2/library/difflib.html#sequencematcher-objects)) and for strings longer than 200 characters you won't get the matches you expect."
   ]
  },
  {
   "cell_type": "markdown",
   "metadata": {},
   "source": [
    "We can wrap the above operation into some functions for reuse."
   ]
  },
  {
   "cell_type": "code",
   "execution_count": 4,
   "metadata": {},
   "outputs": [],
   "source": [
    "def longest_common_substring(s1, s2):\n",
    "    match = SequenceMatcher(isjunk=None, a=s1, b=s2, autojunk=False).find_longest_match(0, len(s1), 0, len(s2))\n",
    "    return s1[match.a : match.a + match.size]\n",
    "\n",
    "# Normalise by dividing length of longest common substring by minimum of the lengths of the input strings.\n",
    "# This will give us a similarity measure between 0 (no overlap) and 1 (identical).\n",
    "\n",
    "# You could also choose to normalise by the maximum, or by the sum of the two strings.\n",
    "\n",
    "def normalised_LCS_len(s1, s2):\n",
    "    return len(longest_common_substring(s1, s2))/min(len(s1), len(s2)) if min(len(s1), len(s2)) > 0 else 0\n"
   ]
  },
  {
   "cell_type": "code",
   "execution_count": 5,
   "metadata": {},
   "outputs": [
    {
     "name": "stdout",
     "output_type": "stream",
     "text": [
      "With flags, song, pride, French celebrate \n",
      "0.7241379310344828\n"
     ]
    }
   ],
   "source": [
    "print(longest_common_substring(str1, str2))\n",
    "print(normalised_LCS_len(str1, str2))"
   ]
  },
  {
   "cell_type": "code",
   "execution_count": 6,
   "metadata": {},
   "outputs": [
    {
     "name": "stdout",
     "output_type": "stream",
     "text": [
      " physicist Stephen Hawking has died at \n"
     ]
    },
    {
     "data": {
      "text/plain": [
       "0.6610169491525424"
      ]
     },
     "execution_count": 6,
     "metadata": {},
     "output_type": "execute_result"
    }
   ],
   "source": [
    "str1 = \"Family spokesman says physicist Stephen Hawking has died at the age of 76\"\n",
    "str2 = \"Brilliant, popular physicist Stephen Hawking has died at 76\"\n",
    "\n",
    "print(longest_common_substring(str1, str2))\n",
    "normalised_LCS_len(str1, str2)"
   ]
  },
  {
   "cell_type": "code",
   "execution_count": 7,
   "metadata": {},
   "outputs": [
    {
     "name": "stdout",
     "output_type": "stream",
     "text": [
      "ing\n"
     ]
    },
    {
     "data": {
      "text/plain": [
       "0.06666666666666667"
      ]
     },
     "execution_count": 7,
     "metadata": {},
     "output_type": "execute_result"
    }
   ],
   "source": [
    "str1 = \"Gatwick Airport Reopens After Drone Sightings\"\n",
    "str2 = \"Brilliant, popular physicist Stephen Hawking has died at 76\"\n",
    "\n",
    "print(longest_common_substring(str1, str2))\n",
    "normalised_LCS_len(str1, str2)"
   ]
  },
  {
   "cell_type": "markdown",
   "metadata": {},
   "source": [
    "**Caveat 1:** Because this method is looking for _exact_ overlaps in the strings, it will not find cases where the strings contain parts that are \"morally\" the same but have changes in punctuation or minor rewordings: "
   ]
  },
  {
   "cell_type": "code",
   "execution_count": 8,
   "metadata": {},
   "outputs": [
    {
     "name": "stdout",
     "output_type": "stream",
     "text": [
      "criminal use of drones\n"
     ]
    },
    {
     "data": {
      "text/plain": [
       "0.3384615384615385"
      ]
     },
     "execution_count": 8,
     "metadata": {},
     "output_type": "execute_result"
    }
   ],
   "source": [
    "str1 = \"Two people arrested for criminal use of drones at Gatwick airport\"\n",
    "str2 = \"Two people arrested over 'criminal use of drones' at Gatwick Airport\"\n",
    "\n",
    "print(longest_common_substring(str1, str2))\n",
    "normalised_LCS_len(str1, str2)"
   ]
  },
  {
   "cell_type": "markdown",
   "metadata": {},
   "source": [
    "**Caveat 2:** This may not behave the way you want when one of the strings is very short:"
   ]
  },
  {
   "cell_type": "code",
   "execution_count": 9,
   "metadata": {},
   "outputs": [
    {
     "name": "stdout",
     "output_type": "stream",
     "text": [
      "Latest News\n"
     ]
    },
    {
     "data": {
      "text/plain": [
       "1.0"
      ]
     },
     "execution_count": 9,
     "metadata": {},
     "output_type": "execute_result"
    }
   ],
   "source": [
    "str1 = \"Latest News\"\n",
    "str2 = \"Latest News: Gatwick Airport in London reopens despite drone\"\n",
    "\n",
    "print(longest_common_substring(str1, str2))\n",
    "normalised_LCS_len(str1, str2)"
   ]
  },
  {
   "cell_type": "markdown",
   "metadata": {},
   "source": [
    "**Caveat 3:** The basic string matching operation is case-sensitive, so you need to `casefold` your strings if you want it to be case-insensitive:"
   ]
  },
  {
   "cell_type": "code",
   "execution_count": 2,
   "metadata": {},
   "outputs": [
    {
     "data": {
      "text/plain": [
       "'british scientist stephen hawking dead at age 76'"
      ]
     },
     "execution_count": 2,
     "metadata": {},
     "output_type": "execute_result"
    }
   ],
   "source": [
    "str1 = \"British Scientist Stephen Hawking Dead At Age 76\"\n",
    "str2 = \"British scientist Stephen Hawking dead at age 76\"\n",
    "str1.casefold()"
   ]
  },
  {
   "cell_type": "code",
   "execution_count": 10,
   "metadata": {},
   "outputs": [
    {
     "name": "stdout",
     "output_type": "stream",
     "text": [
      "cientist Stephen Hawking \n",
      "british scientist stephen hawking dead at age 76\n"
     ]
    },
    {
     "data": {
      "text/plain": [
       "1.0"
      ]
     },
     "execution_count": 10,
     "metadata": {},
     "output_type": "execute_result"
    }
   ],
   "source": [
    "str1 = \"British Scientist Stephen Hawking Dead At Age 76\"\n",
    "str2 = \"British scientist Stephen Hawking dead at age 76\"\n",
    "\n",
    "print(longest_common_substring(str1, str2))\n",
    "normalised_LCS_len(str1, str2)\n",
    "\n",
    "print(longest_common_substring(str1.casefold(), str2.casefold()))\n",
    "normalised_LCS_len(str1.casefold(), str2.casefold())\n"
   ]
  },
  {
   "cell_type": "markdown",
   "metadata": {},
   "source": [
    "If you want to know about `casefold` (and why I used it instead of `.lower` or `.upper`) see here: https://stackoverflow.com/questions/45745661/python-lower-vs-casefold-in-string-matching-and-converting-to-lowercase"
   ]
  },
  {
   "cell_type": "markdown",
   "metadata": {},
   "source": [
    "Here are 200 news headlines about France winning the World Cup:"
   ]
  },
  {
   "cell_type": "code",
   "execution_count": 11,
   "metadata": {},
   "outputs": [
    {
     "data": {
      "text/html": [
       "<div>\n",
       "<style scoped>\n",
       "    .dataframe tbody tr th:only-of-type {\n",
       "        vertical-align: middle;\n",
       "    }\n",
       "\n",
       "    .dataframe tbody tr th {\n",
       "        vertical-align: top;\n",
       "    }\n",
       "\n",
       "    .dataframe thead th {\n",
       "        text-align: right;\n",
       "    }\n",
       "</style>\n",
       "<table border=\"1\" class=\"dataframe\">\n",
       "  <thead>\n",
       "    <tr style=\"text-align: right;\">\n",
       "      <th></th>\n",
       "      <th>text</th>\n",
       "    </tr>\n",
       "  </thead>\n",
       "  <tbody>\n",
       "    <tr>\n",
       "      <th>0</th>\n",
       "      <td>How the World Cup final between France and Croatia will be won</td>\n",
       "    </tr>\n",
       "    <tr>\n",
       "      <th>1</th>\n",
       "      <td>How the World Cup final between France and Croatia will be won</td>\n",
       "    </tr>\n",
       "    <tr>\n",
       "      <th>2</th>\n",
       "      <td>Watch all the goals from the 2018 FIFA World Cup™ Final between France and Croatia | 2018 FIFA World Cup™</td>\n",
       "    </tr>\n",
       "    <tr>\n",
       "      <th>3</th>\n",
       "      <td>FIFA World Cup 2018 Final: 5 key moments in France’s 4-2 victory against Croatia</td>\n",
       "    </tr>\n",
       "    <tr>\n",
       "      <th>4</th>\n",
       "      <td>France wins 2nd World Cup title, beats Croatia 4-2</td>\n",
       "    </tr>\n",
       "    <tr>\n",
       "      <th>5</th>\n",
       "      <td>France beats Croatia 4-2, wins 2nd World Cup title</td>\n",
       "    </tr>\n",
       "    <tr>\n",
       "      <th>6</th>\n",
       "      <td>France wins 2nd World Cup title, beats Croatia 4-2</td>\n",
       "    </tr>\n",
       "    <tr>\n",
       "      <th>7</th>\n",
       "      <td>France wins 2nd World Cup title, beats Croatia 4-2</td>\n",
       "    </tr>\n",
       "    <tr>\n",
       "      <th>8</th>\n",
       "      <td>France and Croatia meet in the World Cup final</td>\n",
       "    </tr>\n",
       "    <tr>\n",
       "      <th>9</th>\n",
       "      <td>France overpower Croatia 4-2 to win World Cup</td>\n",
       "    </tr>\n",
       "    <tr>\n",
       "      <th>10</th>\n",
       "      <td>France Wins Second World Cup Title</td>\n",
       "    </tr>\n",
       "    <tr>\n",
       "      <th>11</th>\n",
       "      <td>France wins second World Cup title</td>\n",
       "    </tr>\n",
       "    <tr>\n",
       "      <th>12</th>\n",
       "      <td>France win World Cup after defeating Croatia</td>\n",
       "    </tr>\n",
       "    <tr>\n",
       "      <th>13</th>\n",
       "      <td>HIGHLIGHTS: France Wins 2018 FIFA World Cup In Moscow, Defeats Croatia 4-2</td>\n",
       "    </tr>\n",
       "    <tr>\n",
       "      <th>14</th>\n",
       "      <td>Russia 2018 final LIVE: France 3-1 Croatia</td>\n",
       "    </tr>\n",
       "  </tbody>\n",
       "</table>\n",
       "</div>"
      ],
      "text/plain": [
       "                                                                                                         text\n",
       "0   How the World Cup final between France and Croatia will be won                                           \n",
       "1   How the World Cup final between France and Croatia will be won                                           \n",
       "2   Watch all the goals from the 2018 FIFA World Cup™ Final between France and Croatia | 2018 FIFA World Cup™\n",
       "3   FIFA World Cup 2018 Final: 5 key moments in France’s 4-2 victory against Croatia                         \n",
       "4   France wins 2nd World Cup title, beats Croatia 4-2                                                       \n",
       "5   France beats Croatia 4-2, wins 2nd World Cup title                                                       \n",
       "6   France wins 2nd World Cup title, beats Croatia 4-2                                                       \n",
       "7   France wins 2nd World Cup title, beats Croatia 4-2                                                       \n",
       "8   France and Croatia meet in the World Cup final                                                           \n",
       "9   France overpower Croatia 4-2 to win World Cup                                                            \n",
       "10  France Wins Second World Cup Title                                                                       \n",
       "11  France wins second World Cup title                                                                       \n",
       "12  France win World Cup after defeating Croatia                                                             \n",
       "13  HIGHLIGHTS: France Wins 2018 FIFA World Cup In Moscow, Defeats Croatia 4-2                               \n",
       "14  Russia 2018 final LIVE: France 3-1 Croatia                                                               "
      ]
     },
     "execution_count": 11,
     "metadata": {},
     "output_type": "execute_result"
    }
   ],
   "source": [
    "france_df = pd.read_csv(\"france-football-headlines.csv\")\n",
    "france_df.head(15)"
   ]
  },
  {
   "cell_type": "markdown",
   "metadata": {},
   "source": [
    "Let's order the headlines by how \"similar\" they are too one headline that we've chosen:"
   ]
  },
  {
   "cell_type": "code",
   "execution_count": 12,
   "metadata": {},
   "outputs": [
    {
     "data": {
      "text/html": [
       "<div>\n",
       "<style scoped>\n",
       "    .dataframe tbody tr th:only-of-type {\n",
       "        vertical-align: middle;\n",
       "    }\n",
       "\n",
       "    .dataframe tbody tr th {\n",
       "        vertical-align: top;\n",
       "    }\n",
       "\n",
       "    .dataframe thead th {\n",
       "        text-align: right;\n",
       "    }\n",
       "</style>\n",
       "<table border=\"1\" class=\"dataframe\">\n",
       "  <thead>\n",
       "    <tr style=\"text-align: right;\">\n",
       "      <th></th>\n",
       "      <th>text</th>\n",
       "      <th>Similarity</th>\n",
       "    </tr>\n",
       "  </thead>\n",
       "  <tbody>\n",
       "    <tr>\n",
       "      <th>16</th>\n",
       "      <td>France wins 2nd World Cup title, beats Croatia 4-2 | tbo.com</td>\n",
       "      <td>1.000000</td>\n",
       "    </tr>\n",
       "    <tr>\n",
       "      <th>4</th>\n",
       "      <td>France wins 2nd World Cup title, beats Croatia 4-2</td>\n",
       "      <td>1.000000</td>\n",
       "    </tr>\n",
       "    <tr>\n",
       "      <th>6</th>\n",
       "      <td>France wins 2nd World Cup title, beats Croatia 4-2</td>\n",
       "      <td>1.000000</td>\n",
       "    </tr>\n",
       "    <tr>\n",
       "      <th>7</th>\n",
       "      <td>France wins 2nd World Cup title, beats Croatia 4-2</td>\n",
       "      <td>1.000000</td>\n",
       "    </tr>\n",
       "    <tr>\n",
       "      <th>75</th>\n",
       "      <td>France wins 2nd World Cup title, beats Croatia 4-2 Sunday, July 15th 2018, 8:03 pm CEDT Sunday, July 15th 2018, 8:06 pm CEDT</td>\n",
       "      <td>1.000000</td>\n",
       "    </tr>\n",
       "    <tr>\n",
       "      <th>15</th>\n",
       "      <td>France wins 2nd World Cup title, beats Croatia 4-2 | KFXL</td>\n",
       "      <td>1.000000</td>\n",
       "    </tr>\n",
       "    <tr>\n",
       "      <th>10</th>\n",
       "      <td>France Wins Second World Cup Title</td>\n",
       "      <td>0.529412</td>\n",
       "    </tr>\n",
       "    <tr>\n",
       "      <th>11</th>\n",
       "      <td>France wins second World Cup title</td>\n",
       "      <td>0.529412</td>\n",
       "    </tr>\n",
       "    <tr>\n",
       "      <th>5</th>\n",
       "      <td>France beats Croatia 4-2, wins 2nd World Cup title</td>\n",
       "      <td>0.500000</td>\n",
       "    </tr>\n",
       "    <tr>\n",
       "      <th>147</th>\n",
       "      <td>BC-World Cup Advisory</td>\n",
       "      <td>0.476190</td>\n",
       "    </tr>\n",
       "    <tr>\n",
       "      <th>61</th>\n",
       "      <td>FIFA World Cup 2018: Dream XI</td>\n",
       "      <td>0.379310</td>\n",
       "    </tr>\n",
       "    <tr>\n",
       "      <th>13</th>\n",
       "      <td>HIGHLIGHTS: France Wins 2018 FIFA World Cup In Moscow, Defeats Croatia 4-2</td>\n",
       "      <td>0.320000</td>\n",
       "    </tr>\n",
       "    <tr>\n",
       "      <th>21</th>\n",
       "      <td>FIFA World Cup 2018: The final warning</td>\n",
       "      <td>0.289474</td>\n",
       "    </tr>\n",
       "    <tr>\n",
       "      <th>40</th>\n",
       "      <td>France and Croatia seek World Cup glory</td>\n",
       "      <td>0.282051</td>\n",
       "    </tr>\n",
       "    <tr>\n",
       "      <th>39</th>\n",
       "      <td>France seal second World Cup triumph with 4-2 win over brave Croatia</td>\n",
       "      <td>0.280000</td>\n",
       "    </tr>\n",
       "  </tbody>\n",
       "</table>\n",
       "</div>"
      ],
      "text/plain": [
       "                                                                                                                             text  \\\n",
       "16   France wins 2nd World Cup title, beats Croatia 4-2 | tbo.com                                                                   \n",
       "4    France wins 2nd World Cup title, beats Croatia 4-2                                                                             \n",
       "6    France wins 2nd World Cup title, beats Croatia 4-2                                                                             \n",
       "7    France wins 2nd World Cup title, beats Croatia 4-2                                                                             \n",
       "75   France wins 2nd World Cup title, beats Croatia 4-2 Sunday, July 15th 2018, 8:03 pm CEDT Sunday, July 15th 2018, 8:06 pm CEDT   \n",
       "15   France wins 2nd World Cup title, beats Croatia 4-2 | KFXL                                                                      \n",
       "10   France Wins Second World Cup Title                                                                                             \n",
       "11   France wins second World Cup title                                                                                             \n",
       "5    France beats Croatia 4-2, wins 2nd World Cup title                                                                             \n",
       "147  BC-World Cup Advisory                                                                                                          \n",
       "61   FIFA World Cup 2018: Dream XI                                                                                                  \n",
       "13   HIGHLIGHTS: France Wins 2018 FIFA World Cup In Moscow, Defeats Croatia 4-2                                                     \n",
       "21   FIFA World Cup 2018: The final warning                                                                                         \n",
       "40   France and Croatia seek World Cup glory                                                                                        \n",
       "39   France seal second World Cup triumph with 4-2 win over brave Croatia                                                           \n",
       "\n",
       "     Similarity  \n",
       "16   1.000000    \n",
       "4    1.000000    \n",
       "6    1.000000    \n",
       "7    1.000000    \n",
       "75   1.000000    \n",
       "15   1.000000    \n",
       "10   0.529412    \n",
       "11   0.529412    \n",
       "5    0.500000    \n",
       "147  0.476190    \n",
       "61   0.379310    \n",
       "13   0.320000    \n",
       "21   0.289474    \n",
       "40   0.282051    \n",
       "39   0.280000    "
      ]
     },
     "execution_count": 12,
     "metadata": {},
     "output_type": "execute_result"
    }
   ],
   "source": [
    "headline = \"France wins 2nd World Cup title, beats Croatia 4-2\"\n",
    "\n",
    "france_df['Similarity'] = france_df['text'].apply(lambda s: normalised_LCS_len(headline.casefold(), s.casefold()))\n",
    "\n",
    "france_df.sort_values('Similarity', ascending=False).head(15)"
   ]
  },
  {
   "cell_type": "code",
   "execution_count": 13,
   "metadata": {},
   "outputs": [
    {
     "data": {
      "text/html": [
       "<div>\n",
       "<style scoped>\n",
       "    .dataframe tbody tr th:only-of-type {\n",
       "        vertical-align: middle;\n",
       "    }\n",
       "\n",
       "    .dataframe tbody tr th {\n",
       "        vertical-align: top;\n",
       "    }\n",
       "\n",
       "    .dataframe thead th {\n",
       "        text-align: right;\n",
       "    }\n",
       "</style>\n",
       "<table border=\"1\" class=\"dataframe\">\n",
       "  <thead>\n",
       "    <tr style=\"text-align: right;\">\n",
       "      <th></th>\n",
       "      <th>text</th>\n",
       "      <th>Similarity</th>\n",
       "    </tr>\n",
       "  </thead>\n",
       "  <tbody>\n",
       "    <tr>\n",
       "      <th>134</th>\n",
       "      <td>The Latest: French leader to soccer team: 'Don't change'</td>\n",
       "      <td>0.040000</td>\n",
       "    </tr>\n",
       "    <tr>\n",
       "      <th>164</th>\n",
       "      <td>Pele v Kylian Mbappe: Tale of the tape | The Northern Echo</td>\n",
       "      <td>0.040000</td>\n",
       "    </tr>\n",
       "    <tr>\n",
       "      <th>190</th>\n",
       "      <td>Sunday night shooting in Surrey sends man to hospital</td>\n",
       "      <td>0.040000</td>\n",
       "    </tr>\n",
       "    <tr>\n",
       "      <th>197</th>\n",
       "      <td>We might get Cleganebowl in 'Game of Thrones'Season 8</td>\n",
       "      <td>0.040000</td>\n",
       "    </tr>\n",
       "    <tr>\n",
       "      <th>184</th>\n",
       "      <td>News AskKTR Interactive Session on Twitter</td>\n",
       "      <td>0.047619</td>\n",
       "    </tr>\n",
       "    <tr>\n",
       "      <th>191</th>\n",
       "      <td>MCMC studies EPL direct telecast on RTM</td>\n",
       "      <td>0.051282</td>\n",
       "    </tr>\n",
       "    <tr>\n",
       "      <th>181</th>\n",
       "      <td>AP News in Brief at 12:04 a.m. EDT</td>\n",
       "      <td>0.058824</td>\n",
       "    </tr>\n",
       "    <tr>\n",
       "      <th>172</th>\n",
       "      <td>U.S. President Trump has 'low expectations'for Helsinki summit</td>\n",
       "      <td>0.060000</td>\n",
       "    </tr>\n",
       "    <tr>\n",
       "      <th>173</th>\n",
       "      <td>16-07-2018 - RN Breakfast - ABC Radio National (Australian Broadcasting Corporation)</td>\n",
       "      <td>0.060000</td>\n",
       "    </tr>\n",
       "    <tr>\n",
       "      <th>174</th>\n",
       "      <td>Macron cheers from the stands — then ‘dabs’ in the changing room</td>\n",
       "      <td>0.060000</td>\n",
       "    </tr>\n",
       "    <tr>\n",
       "      <th>175</th>\n",
       "      <td>Macron cheers from the stands -- then 'dabs'in the changing room</td>\n",
       "      <td>0.060000</td>\n",
       "    </tr>\n",
       "    <tr>\n",
       "      <th>176</th>\n",
       "      <td>A look at how VAR the new system has come | Hillingdon Times</td>\n",
       "      <td>0.060000</td>\n",
       "    </tr>\n",
       "    <tr>\n",
       "      <th>143</th>\n",
       "      <td>Russia to Grant Football Fans Visa-Free Entry till End of 2018 | Al Bawaba</td>\n",
       "      <td>0.060000</td>\n",
       "    </tr>\n",
       "    <tr>\n",
       "      <th>178</th>\n",
       "      <td>Argentine Press Rips National Team Coach Sampaoli as He Heads for the Exits</td>\n",
       "      <td>0.060000</td>\n",
       "    </tr>\n",
       "    <tr>\n",
       "      <th>154</th>\n",
       "      <td>Emmanuel Macron to welcome French football team at Elysee Palace</td>\n",
       "      <td>0.060000</td>\n",
       "    </tr>\n",
       "  </tbody>\n",
       "</table>\n",
       "</div>"
      ],
      "text/plain": [
       "                                                                                     text  \\\n",
       "134  The Latest: French leader to soccer team: 'Don't change'                               \n",
       "164  Pele v Kylian Mbappe: Tale of the tape | The Northern Echo                             \n",
       "190  Sunday night shooting in Surrey sends man to hospital                                  \n",
       "197  We might get Cleganebowl in 'Game of Thrones'Season 8                                  \n",
       "184  News AskKTR Interactive Session on Twitter                                             \n",
       "191  MCMC studies EPL direct telecast on RTM                                                \n",
       "181  AP News in Brief at 12:04 a.m. EDT                                                     \n",
       "172  U.S. President Trump has 'low expectations'for Helsinki summit                         \n",
       "173  16-07-2018 - RN Breakfast - ABC Radio National (Australian Broadcasting Corporation)   \n",
       "174  Macron cheers from the stands — then ‘dabs’ in the changing room                       \n",
       "175  Macron cheers from the stands -- then 'dabs'in the changing room                       \n",
       "176  A look at how VAR the new system has come | Hillingdon Times                           \n",
       "143  Russia to Grant Football Fans Visa-Free Entry till End of 2018 | Al Bawaba             \n",
       "178  Argentine Press Rips National Team Coach Sampaoli as He Heads for the Exits            \n",
       "154  Emmanuel Macron to welcome French football team at Elysee Palace                       \n",
       "\n",
       "     Similarity  \n",
       "134  0.040000    \n",
       "164  0.040000    \n",
       "190  0.040000    \n",
       "197  0.040000    \n",
       "184  0.047619    \n",
       "191  0.051282    \n",
       "181  0.058824    \n",
       "172  0.060000    \n",
       "173  0.060000    \n",
       "174  0.060000    \n",
       "175  0.060000    \n",
       "176  0.060000    \n",
       "143  0.060000    \n",
       "178  0.060000    \n",
       "154  0.060000    "
      ]
     },
     "execution_count": 13,
     "metadata": {},
     "output_type": "execute_result"
    }
   ],
   "source": [
    "france_df.sort_values('Similarity').head(15)"
   ]
  },
  {
   "cell_type": "markdown",
   "metadata": {},
   "source": [
    "### Levenshtein distance\n",
    "\n",
    "The _Levenshtein distance_ (also called _edit distance_) between two strings is the minimum number of edit steps required to turn one into the other, where an edit step is one of the following:\n",
    "\n",
    " - insert a character\n",
    " - substitute one character for another one\n",
    " - delete a character"
   ]
  },
  {
   "cell_type": "code",
   "execution_count": 14,
   "metadata": {},
   "outputs": [
    {
     "name": "stdout",
     "output_type": "stream",
     "text": [
      "3\n"
     ]
    }
   ],
   "source": [
    "from similarity.levenshtein import Levenshtein\n",
    "levenshtein = Levenshtein()\n",
    "\n",
    "str1 = \"kitten\"\n",
    "str2 = \"sitting\"\n",
    "\n",
    "print(levenshtein.distance(str1, str2))"
   ]
  },
  {
   "cell_type": "markdown",
   "metadata": {},
   "source": [
    "You can turn \"kitten\" into \"sitting\" in three edits by:\n",
    " - substituting \"s\" for \"k\", giving \"sitten\"\n",
    " - substituting \"i\" for \"e\", giving \"sittin\"\n",
    " - insert a \"g\" at the end\n",
    " \n",
    "There is no way to do it in fewer edits.\n",
    "\n",
    "The `strsim` library also contains a normalised version, which divides by the length of the longest string to give a value betwen 0 and 1."
   ]
  },
  {
   "cell_type": "code",
   "execution_count": 15,
   "metadata": {},
   "outputs": [
    {
     "name": "stdout",
     "output_type": "stream",
     "text": [
      "0.42857142857142855\n",
      "0.42857142857142855\n"
     ]
    }
   ],
   "source": [
    "from similarity.normalized_levenshtein import NormalizedLevenshtein\n",
    "normalized_levenshtein = NormalizedLevenshtein()\n",
    "\n",
    "print(normalized_levenshtein.distance(str1, str2))\n",
    "print(3/len(\"sitting\"))"
   ]
  },
  {
   "cell_type": "markdown",
   "metadata": {},
   "source": [
    "Note that this is a **distance value** not a similarity value: a value of 1 means the strings are totally different and a value of 0 means they are identical. Subtract the distance from 1 if you want a similarity value."
   ]
  },
  {
   "cell_type": "markdown",
   "metadata": {},
   "source": [
    "**Note how edit distance behaves when there are minor differences in wordings or in punctuation:**"
   ]
  },
  {
   "cell_type": "code",
   "execution_count": 16,
   "metadata": {},
   "outputs": [
    {
     "name": "stdout",
     "output_type": "stream",
     "text": [
      "6\n",
      "0.08823529411764706\n"
     ]
    }
   ],
   "source": [
    "str1 = \"Two people arrested over 'criminal use of drones' at Gatwick Airport\"\n",
    "str2 = \"Two people arrested for criminal use of drones at Gatwick airport\"\n",
    "\n",
    "print(levenshtein.distance(str1, str2))\n",
    "print(normalized_levenshtein.distance(str1, str2))"
   ]
  },
  {
   "cell_type": "markdown",
   "metadata": {},
   "source": [
    "This tells us we can turn one string into the other by 6 edit steps:\n",
    "\n",
    " - (Delete first quote) \"Two people arrested over criminal use of drones' at Gatwick Airport\"\n",
    " - (Delete second quote) \"Two people arrested over criminal use of drones at Gatwick Airport\"\n",
    " - (Delete v character) \"Two people arrested oer criminal use of drones at Gatwick Airport\"\n",
    " - (Delete e character) \"Two people arrested or criminal use of drones at Gatwick Airport\"\n",
    " - (Insert f character) \"Two people arrested for criminal use of drones at Gatwick Airport\"\n",
    " - (Substitute a for A) \"Two people arrested for criminal use of drones at Gatwick airport\"\n",
    " \n",
    " \n",
    " "
   ]
  },
  {
   "cell_type": "markdown",
   "metadata": {},
   "source": [
    "Here are 200 news headlines about drones shutting down Gatwick Airport:"
   ]
  },
  {
   "cell_type": "code",
   "execution_count": 17,
   "metadata": {},
   "outputs": [
    {
     "data": {
      "text/html": [
       "<div>\n",
       "<style scoped>\n",
       "    .dataframe tbody tr th:only-of-type {\n",
       "        vertical-align: middle;\n",
       "    }\n",
       "\n",
       "    .dataframe tbody tr th {\n",
       "        vertical-align: top;\n",
       "    }\n",
       "\n",
       "    .dataframe thead th {\n",
       "        text-align: right;\n",
       "    }\n",
       "</style>\n",
       "<table border=\"1\" class=\"dataframe\">\n",
       "  <thead>\n",
       "    <tr style=\"text-align: right;\">\n",
       "      <th></th>\n",
       "      <th>text</th>\n",
       "    </tr>\n",
       "  </thead>\n",
       "  <tbody>\n",
       "    <tr>\n",
       "      <th>0</th>\n",
       "      <td>London's Gatwick Airport resumes flights after drone chaos</td>\n",
       "    </tr>\n",
       "    <tr>\n",
       "      <th>1</th>\n",
       "      <td>London’s Gatwick Airport resumes flights after drone chaos</td>\n",
       "    </tr>\n",
       "    <tr>\n",
       "      <th>2</th>\n",
       "      <td>Gatwick Airport suspends flights after drone sightings</td>\n",
       "    </tr>\n",
       "    <tr>\n",
       "      <th>3</th>\n",
       "      <td>Holiday chaos as drones shut London's Gatwick Airport</td>\n",
       "    </tr>\n",
       "    <tr>\n",
       "      <th>4</th>\n",
       "      <td>Holiday chaos as drones shut London's Gatwick Airport</td>\n",
       "    </tr>\n",
       "    <tr>\n",
       "      <th>5</th>\n",
       "      <td>The Latest: Gatwick Airport in London reopens despite drone</td>\n",
       "    </tr>\n",
       "    <tr>\n",
       "      <th>6</th>\n",
       "      <td>Gatwick airport: How can a drone cause so much chaos?</td>\n",
       "    </tr>\n",
       "    <tr>\n",
       "      <th>7</th>\n",
       "      <td>UK Couple Arrested After Drone Causes Gatwick Airport Chaos And Delays</td>\n",
       "    </tr>\n",
       "    <tr>\n",
       "      <th>8</th>\n",
       "      <td>Two arrested over London airport drone disruption: police</td>\n",
       "    </tr>\n",
       "    <tr>\n",
       "      <th>9</th>\n",
       "      <td>Gatwick Airport: Why has Gatwick suspended ALL flights? When will flights resume?</td>\n",
       "    </tr>\n",
       "    <tr>\n",
       "      <th>10</th>\n",
       "      <td>Man and woman held in Gatwick Airport drone chaos probe</td>\n",
       "    </tr>\n",
       "    <tr>\n",
       "      <th>11</th>\n",
       "      <td>Man and woman held in Gatwick Airport drone chaos probe</td>\n",
       "    </tr>\n",
       "    <tr>\n",
       "      <th>12</th>\n",
       "      <td>Travelers face chaos as drones shut London's Gatwick airport</td>\n",
       "    </tr>\n",
       "    <tr>\n",
       "      <th>13</th>\n",
       "      <td>Travelers face chaos as drones shut London's Gatwick airport</td>\n",
       "    </tr>\n",
       "    <tr>\n",
       "      <th>14</th>\n",
       "      <td>Two held over London airport drone chaos as flights resume | AFP.com</td>\n",
       "    </tr>\n",
       "  </tbody>\n",
       "</table>\n",
       "</div>"
      ],
      "text/plain": [
       "                                                                                 text\n",
       "0   London's Gatwick Airport resumes flights after drone chaos                       \n",
       "1   London’s Gatwick Airport resumes flights after drone chaos                       \n",
       "2   Gatwick Airport suspends flights after drone sightings                           \n",
       "3   Holiday chaos as drones shut London's Gatwick Airport                            \n",
       "4   Holiday chaos as drones shut London's Gatwick Airport                            \n",
       "5   The Latest: Gatwick Airport in London reopens despite drone                      \n",
       "6   Gatwick airport: How can a drone cause so much chaos?                            \n",
       "7   UK Couple Arrested After Drone Causes Gatwick Airport Chaos And Delays           \n",
       "8   Two arrested over London airport drone disruption: police                        \n",
       "9   Gatwick Airport: Why has Gatwick suspended ALL flights? When will flights resume?\n",
       "10  Man and woman held in Gatwick Airport drone chaos probe                          \n",
       "11  Man and woman held in Gatwick Airport drone chaos probe                          \n",
       "12  Travelers face chaos as drones shut London's Gatwick airport                     \n",
       "13  Travelers face chaos as drones shut London's Gatwick airport                     \n",
       "14  Two held over London airport drone chaos as flights resume | AFP.com             "
      ]
     },
     "execution_count": 17,
     "metadata": {},
     "output_type": "execute_result"
    }
   ],
   "source": [
    "gatwick_df = pd.read_csv(\"gatwick-drone-headlines.csv\")\n",
    "gatwick_df.head(15)"
   ]
  },
  {
   "cell_type": "markdown",
   "metadata": {},
   "source": [
    "Let's order the headlines by how \"similar\" they are too one headline that we've chosen:"
   ]
  },
  {
   "cell_type": "code",
   "execution_count": 18,
   "metadata": {},
   "outputs": [
    {
     "data": {
      "text/html": [
       "<div>\n",
       "<style scoped>\n",
       "    .dataframe tbody tr th:only-of-type {\n",
       "        vertical-align: middle;\n",
       "    }\n",
       "\n",
       "    .dataframe tbody tr th {\n",
       "        vertical-align: top;\n",
       "    }\n",
       "\n",
       "    .dataframe thead th {\n",
       "        text-align: right;\n",
       "    }\n",
       "</style>\n",
       "<table border=\"1\" class=\"dataframe\">\n",
       "  <thead>\n",
       "    <tr style=\"text-align: right;\">\n",
       "      <th></th>\n",
       "      <th>text</th>\n",
       "      <th>Distance</th>\n",
       "    </tr>\n",
       "  </thead>\n",
       "  <tbody>\n",
       "    <tr>\n",
       "      <th>2</th>\n",
       "      <td>Gatwick Airport suspends flights after drone sightings</td>\n",
       "      <td>0.000000</td>\n",
       "    </tr>\n",
       "    <tr>\n",
       "      <th>37</th>\n",
       "      <td>Gatwick Airport Reopens After Drone Sightings</td>\n",
       "      <td>0.222222</td>\n",
       "    </tr>\n",
       "    <tr>\n",
       "      <th>65</th>\n",
       "      <td>Gatwick airport suspends flights again</td>\n",
       "      <td>0.314815</td>\n",
       "    </tr>\n",
       "    <tr>\n",
       "      <th>67</th>\n",
       "      <td>Gatwick airport suspends flights again</td>\n",
       "      <td>0.314815</td>\n",
       "    </tr>\n",
       "    <tr>\n",
       "      <th>66</th>\n",
       "      <td>Gatwick airport suspends flights again</td>\n",
       "      <td>0.314815</td>\n",
       "    </tr>\n",
       "    <tr>\n",
       "      <th>15</th>\n",
       "      <td>Gatwick airport reopens after drone chaos</td>\n",
       "      <td>0.351852</td>\n",
       "    </tr>\n",
       "    <tr>\n",
       "      <th>0</th>\n",
       "      <td>London's Gatwick Airport resumes flights after drone chaos</td>\n",
       "      <td>0.379310</td>\n",
       "    </tr>\n",
       "    <tr>\n",
       "      <th>1</th>\n",
       "      <td>London’s Gatwick Airport resumes flights after drone chaos</td>\n",
       "      <td>0.379310</td>\n",
       "    </tr>\n",
       "    <tr>\n",
       "      <th>53</th>\n",
       "      <td>Gatwick Airport Suspends Flights After Drones Reportedly Spotted Over Airfield</td>\n",
       "      <td>0.384615</td>\n",
       "    </tr>\n",
       "    <tr>\n",
       "      <th>96</th>\n",
       "      <td>Gatwick airport to stay closed after another drone sighting | Reuters</td>\n",
       "      <td>0.434783</td>\n",
       "    </tr>\n",
       "    <tr>\n",
       "      <th>49</th>\n",
       "      <td>Gatwick airport says has suspended runway again after drone reports</td>\n",
       "      <td>0.447761</td>\n",
       "    </tr>\n",
       "    <tr>\n",
       "      <th>19</th>\n",
       "      <td>London's Gatwick Airport remain shut due to drone sightings</td>\n",
       "      <td>0.457627</td>\n",
       "    </tr>\n",
       "    <tr>\n",
       "      <th>17</th>\n",
       "      <td>London's Gatwick Airport remain shut due to drone sightings</td>\n",
       "      <td>0.457627</td>\n",
       "    </tr>\n",
       "    <tr>\n",
       "      <th>18</th>\n",
       "      <td>London's Gatwick Airport remain shut due to drone sightings</td>\n",
       "      <td>0.457627</td>\n",
       "    </tr>\n",
       "    <tr>\n",
       "      <th>33</th>\n",
       "      <td>UK airport restarts some flights after drone shutdown chaos</td>\n",
       "      <td>0.474576</td>\n",
       "    </tr>\n",
       "  </tbody>\n",
       "</table>\n",
       "</div>"
      ],
      "text/plain": [
       "                                                                              text  \\\n",
       "2   Gatwick Airport suspends flights after drone sightings                           \n",
       "37  Gatwick Airport Reopens After Drone Sightings                                    \n",
       "65  Gatwick airport suspends flights again                                           \n",
       "67  Gatwick airport suspends flights again                                           \n",
       "66  Gatwick airport suspends flights again                                           \n",
       "15  Gatwick airport reopens after drone chaos                                        \n",
       "0   London's Gatwick Airport resumes flights after drone chaos                       \n",
       "1   London’s Gatwick Airport resumes flights after drone chaos                       \n",
       "53  Gatwick Airport Suspends Flights After Drones Reportedly Spotted Over Airfield   \n",
       "96  Gatwick airport to stay closed after another drone sighting | Reuters            \n",
       "49  Gatwick airport says has suspended runway again after drone reports              \n",
       "19  London's Gatwick Airport remain shut due to drone sightings                      \n",
       "17  London's Gatwick Airport remain shut due to drone sightings                      \n",
       "18  London's Gatwick Airport remain shut due to drone sightings                      \n",
       "33  UK airport restarts some flights after drone shutdown chaos                      \n",
       "\n",
       "    Distance  \n",
       "2   0.000000  \n",
       "37  0.222222  \n",
       "65  0.314815  \n",
       "67  0.314815  \n",
       "66  0.314815  \n",
       "15  0.351852  \n",
       "0   0.379310  \n",
       "1   0.379310  \n",
       "53  0.384615  \n",
       "96  0.434783  \n",
       "49  0.447761  \n",
       "19  0.457627  \n",
       "17  0.457627  \n",
       "18  0.457627  \n",
       "33  0.474576  "
      ]
     },
     "execution_count": 18,
     "metadata": {},
     "output_type": "execute_result"
    }
   ],
   "source": [
    "headline = \"Gatwick Airport suspends flights after drone sightings\"\n",
    "\n",
    "gatwick_df['Distance'] = gatwick_df['text'].apply(\n",
    "    lambda s: normalized_levenshtein.distance(headline.casefold(), s.casefold()))\n",
    "\n",
    "gatwick_df.sort_values('Distance').head(15)"
   ]
  },
  {
   "cell_type": "code",
   "execution_count": 19,
   "metadata": {},
   "outputs": [
    {
     "data": {
      "text/html": [
       "<div>\n",
       "<style scoped>\n",
       "    .dataframe tbody tr th:only-of-type {\n",
       "        vertical-align: middle;\n",
       "    }\n",
       "\n",
       "    .dataframe tbody tr th {\n",
       "        vertical-align: top;\n",
       "    }\n",
       "\n",
       "    .dataframe thead th {\n",
       "        text-align: right;\n",
       "    }\n",
       "</style>\n",
       "<table border=\"1\" class=\"dataframe\">\n",
       "  <thead>\n",
       "    <tr style=\"text-align: right;\">\n",
       "      <th></th>\n",
       "      <th>text</th>\n",
       "      <th>Distance</th>\n",
       "    </tr>\n",
       "  </thead>\n",
       "  <tbody>\n",
       "    <tr>\n",
       "      <th>153</th>\n",
       "      <td>Flughafen London-Gatwick wegen Drohnen komplett lahmgelegt</td>\n",
       "      <td>0.879310</td>\n",
       "    </tr>\n",
       "    <tr>\n",
       "      <th>71</th>\n",
       "      <td>Two held in Gatwick drone probe released | The Recorder</td>\n",
       "      <td>0.872727</td>\n",
       "    </tr>\n",
       "    <tr>\n",
       "      <th>166</th>\n",
       "      <td>BC-EU--Britain-Gatwick A, 0375</td>\n",
       "      <td>0.870370</td>\n",
       "    </tr>\n",
       "    <tr>\n",
       "      <th>3</th>\n",
       "      <td>Holiday chaos as drones shut London's Gatwick Airport</td>\n",
       "      <td>0.870370</td>\n",
       "    </tr>\n",
       "    <tr>\n",
       "      <th>4</th>\n",
       "      <td>Holiday chaos as drones shut London's Gatwick Airport</td>\n",
       "      <td>0.870370</td>\n",
       "    </tr>\n",
       "    <tr>\n",
       "      <th>78</th>\n",
       "      <td>Drones shut London Gatwick airport amid busy holiday period</td>\n",
       "      <td>0.864407</td>\n",
       "    </tr>\n",
       "    <tr>\n",
       "      <th>141</th>\n",
       "      <td>It was obvious even to an amoeba that sooner or later the free sale of drones to the British public would end in a disaster. I would take a bet that this attack on Gatwick airport was a trial run for a future assault, next time with a drone loaded with a f</td>\n",
       "      <td>0.863281</td>\n",
       "    </tr>\n",
       "    <tr>\n",
       "      <th>169</th>\n",
       "      <td>Christmas getaway drivers warned of delays | Gazette &amp; Herald</td>\n",
       "      <td>0.852459</td>\n",
       "    </tr>\n",
       "    <tr>\n",
       "      <th>193</th>\n",
       "      <td>News Sniffer</td>\n",
       "      <td>0.851852</td>\n",
       "    </tr>\n",
       "    <tr>\n",
       "      <th>148</th>\n",
       "      <td>Drone detectors in place across UK - security minister</td>\n",
       "      <td>0.851852</td>\n",
       "    </tr>\n",
       "    <tr>\n",
       "      <th>197</th>\n",
       "      <td>Ellucian Pathways Scholarship Recipients Announced</td>\n",
       "      <td>0.851852</td>\n",
       "    </tr>\n",
       "    <tr>\n",
       "      <th>12</th>\n",
       "      <td>Travelers face chaos as drones shut London's Gatwick airport</td>\n",
       "      <td>0.850000</td>\n",
       "    </tr>\n",
       "    <tr>\n",
       "      <th>13</th>\n",
       "      <td>Travelers face chaos as drones shut London's Gatwick airport</td>\n",
       "      <td>0.850000</td>\n",
       "    </tr>\n",
       "    <tr>\n",
       "      <th>154</th>\n",
       "      <td>The Latest: Delays, cancelations still expected at Gatwick</td>\n",
       "      <td>0.844828</td>\n",
       "    </tr>\n",
       "    <tr>\n",
       "      <th>161</th>\n",
       "      <td>'British troops may be sent to hunt Gatwick drones'. MAY be sent ? Christ, a couple of imbeciles have brought the air transport system to a standstill, this must be music to the ears of any potential terrorist organisation. What the hell have we got masque</td>\n",
       "      <td>0.839844</td>\n",
       "    </tr>\n",
       "  </tbody>\n",
       "</table>\n",
       "</div>"
      ],
      "text/plain": [
       "                                                                                                                                                                                                                                                                 text  \\\n",
       "153  Flughafen London-Gatwick wegen Drohnen komplett lahmgelegt                                                                                                                                                                                                         \n",
       "71   Two held in Gatwick drone probe released | The Recorder                                                                                                                                                                                                            \n",
       "166  BC-EU--Britain-Gatwick A, 0375                                                                                                                                                                                                                                     \n",
       "3    Holiday chaos as drones shut London's Gatwick Airport                                                                                                                                                                                                              \n",
       "4    Holiday chaos as drones shut London's Gatwick Airport                                                                                                                                                                                                              \n",
       "78   Drones shut London Gatwick airport amid busy holiday period                                                                                                                                                                                                        \n",
       "141  It was obvious even to an amoeba that sooner or later the free sale of drones to the British public would end in a disaster. I would take a bet that this attack on Gatwick airport was a trial run for a future assault, next time with a drone loaded with a f   \n",
       "169  Christmas getaway drivers warned of delays | Gazette & Herald                                                                                                                                                                                                      \n",
       "193  News Sniffer                                                                                                                                                                                                                                                       \n",
       "148  Drone detectors in place across UK - security minister                                                                                                                                                                                                             \n",
       "197  Ellucian Pathways Scholarship Recipients Announced                                                                                                                                                                                                                 \n",
       "12   Travelers face chaos as drones shut London's Gatwick airport                                                                                                                                                                                                       \n",
       "13   Travelers face chaos as drones shut London's Gatwick airport                                                                                                                                                                                                       \n",
       "154  The Latest: Delays, cancelations still expected at Gatwick                                                                                                                                                                                                         \n",
       "161  'British troops may be sent to hunt Gatwick drones'. MAY be sent ? Christ, a couple of imbeciles have brought the air transport system to a standstill, this must be music to the ears of any potential terrorist organisation. What the hell have we got masque   \n",
       "\n",
       "     Distance  \n",
       "153  0.879310  \n",
       "71   0.872727  \n",
       "166  0.870370  \n",
       "3    0.870370  \n",
       "4    0.870370  \n",
       "78   0.864407  \n",
       "141  0.863281  \n",
       "169  0.852459  \n",
       "193  0.851852  \n",
       "148  0.851852  \n",
       "197  0.851852  \n",
       "12   0.850000  \n",
       "13   0.850000  \n",
       "154  0.844828  \n",
       "161  0.839844  "
      ]
     },
     "execution_count": 19,
     "metadata": {},
     "output_type": "execute_result"
    }
   ],
   "source": [
    "gatwick_df.sort_values('Distance', ascending=False).head(15)"
   ]
  },
  {
   "cell_type": "markdown",
   "metadata": {},
   "source": [
    "**Caveat 1:** Sometimes in Analytics, a news headline will be duplicated (a content extraction issue, really). But Levenshtein distance will consider such strings as not very similar: "
   ]
  },
  {
   "cell_type": "code",
   "execution_count": 20,
   "metadata": {},
   "outputs": [
    {
     "name": "stdout",
     "output_type": "stream",
     "text": [
      "59\n",
      "0.5042735042735043\n"
     ]
    }
   ],
   "source": [
    "str1 = \"The world reacts to the death of physicist Stephen Hawking\"\n",
    "str2 = \"The world reacts to the death of physicist Stephen Hawking The world reacts to the death of physicist Stephen Hawking\"\n",
    "\n",
    "print(levenshtein.distance(str1, str2))\n",
    "print(normalized_levenshtein.distance(str1, str2))"
   ]
  },
  {
   "cell_type": "markdown",
   "metadata": {},
   "source": [
    "**Caveat 2:** When one piece of the text results from chopping up the other and reordering the pieces, Levenshtein distance will not consider them very similar."
   ]
  },
  {
   "cell_type": "code",
   "execution_count": 21,
   "metadata": {},
   "outputs": [
    {
     "name": "stdout",
     "output_type": "stream",
     "text": [
      "73\n",
      "0.8202247191011236\n"
     ]
    }
   ],
   "source": [
    "str1 = \"Prime Minister Theresa May emphasises 'The UK is proud to stand side by side with Israel'\"\n",
    "str2 = \"'The UK is proud to stand side by side with Israel' emphasises Prime Minister Theresa May\"\n",
    "\n",
    "print(levenshtein.distance(str1, str2))\n",
    "print(normalized_levenshtein.distance(str1, str2))"
   ]
  },
  {
   "cell_type": "markdown",
   "metadata": {},
   "source": [
    "### Jaccard similarity of character shingles\n",
    "\n",
    "\n",
    "Given a text string, the _shingles of length $k$_ are all the substrings of length $k$:"
   ]
  },
  {
   "cell_type": "code",
   "execution_count": 22,
   "metadata": {},
   "outputs": [
    {
     "data": {
      "text/plain": [
       "[('h', 'u', 'n'),\n",
       " ('u', 'n', 'g'),\n",
       " ('n', 'g', 'e'),\n",
       " ('g', 'e', 'r'),\n",
       " ('e', 'r', ' '),\n",
       " ('r', ' ', '&'),\n",
       " (' ', '&', ' '),\n",
       " ('&', ' ', 't'),\n",
       " (' ', 't', 'h'),\n",
       " ('t', 'h', 'i'),\n",
       " ('h', 'i', 'r'),\n",
       " ('i', 'r', 's'),\n",
       " ('r', 's', 't')]"
      ]
     },
     "execution_count": 22,
     "metadata": {},
     "output_type": "execute_result"
    }
   ],
   "source": [
    "from nltk import ngrams\n",
    "\n",
    "def shingles_list(s, k):\n",
    "    return list(ngrams(s, k))\n",
    "\n",
    "def shingles_set(s, k):\n",
    "    return set(ngrams(s, k))\n",
    "\n",
    "\n",
    "shingles_list(\"hunger & thirst\", 3)"
   ]
  },
  {
   "cell_type": "markdown",
   "metadata": {},
   "source": [
    "We can compare two strings `str1` and `str2` by finding the Jaccard similarity of their sets of shingles of length $k$:\n",
    "\n",
    " - find the shingles of `str1`\n",
    " - find the shingles of `str2`\n",
    " - divide the number of shingles with _both_ sets, by the number in _either_ set (size of intersection over size of union)"
   ]
  },
  {
   "cell_type": "code",
   "execution_count": 23,
   "metadata": {},
   "outputs": [],
   "source": [
    "str1 = \"hunger & thirst\"\n",
    "str2 = \"thirst & hunger\""
   ]
  },
  {
   "cell_type": "code",
   "execution_count": 24,
   "metadata": {},
   "outputs": [
    {
     "data": {
      "text/plain": [
       "{(' ', '&', ' '),\n",
       " (' ', 't', 'h'),\n",
       " ('&', ' ', 't'),\n",
       " ('e', 'r', ' '),\n",
       " ('g', 'e', 'r'),\n",
       " ('h', 'i', 'r'),\n",
       " ('h', 'u', 'n'),\n",
       " ('i', 'r', 's'),\n",
       " ('n', 'g', 'e'),\n",
       " ('r', ' ', '&'),\n",
       " ('r', 's', 't'),\n",
       " ('t', 'h', 'i'),\n",
       " ('u', 'n', 'g')}"
      ]
     },
     "execution_count": 24,
     "metadata": {},
     "output_type": "execute_result"
    }
   ],
   "source": [
    "shingles1 = shingles_set(str1, 3)\n",
    "shingles1"
   ]
  },
  {
   "cell_type": "code",
   "execution_count": 25,
   "metadata": {},
   "outputs": [
    {
     "data": {
      "text/plain": [
       "{(' ', '&', ' '),\n",
       " (' ', 'h', 'u'),\n",
       " ('&', ' ', 'h'),\n",
       " ('g', 'e', 'r'),\n",
       " ('h', 'i', 'r'),\n",
       " ('h', 'u', 'n'),\n",
       " ('i', 'r', 's'),\n",
       " ('n', 'g', 'e'),\n",
       " ('r', 's', 't'),\n",
       " ('s', 't', ' '),\n",
       " ('t', ' ', '&'),\n",
       " ('t', 'h', 'i'),\n",
       " ('u', 'n', 'g')}"
      ]
     },
     "execution_count": 25,
     "metadata": {},
     "output_type": "execute_result"
    }
   ],
   "source": [
    "shingles2 = shingles_set(str2, 3)\n",
    "shingles2"
   ]
  },
  {
   "cell_type": "code",
   "execution_count": 26,
   "metadata": {},
   "outputs": [
    {
     "data": {
      "text/plain": [
       "{(' ', '&', ' '),\n",
       " ('g', 'e', 'r'),\n",
       " ('h', 'i', 'r'),\n",
       " ('h', 'u', 'n'),\n",
       " ('i', 'r', 's'),\n",
       " ('n', 'g', 'e'),\n",
       " ('r', 's', 't'),\n",
       " ('t', 'h', 'i'),\n",
       " ('u', 'n', 'g')}"
      ]
     },
     "execution_count": 26,
     "metadata": {},
     "output_type": "execute_result"
    }
   ],
   "source": [
    "intersection = shingles1.intersection(shingles2)\n",
    "intersection"
   ]
  },
  {
   "cell_type": "code",
   "execution_count": 27,
   "metadata": {},
   "outputs": [
    {
     "data": {
      "text/plain": [
       "{(' ', '&', ' '),\n",
       " (' ', 'h', 'u'),\n",
       " (' ', 't', 'h'),\n",
       " ('&', ' ', 'h'),\n",
       " ('&', ' ', 't'),\n",
       " ('e', 'r', ' '),\n",
       " ('g', 'e', 'r'),\n",
       " ('h', 'i', 'r'),\n",
       " ('h', 'u', 'n'),\n",
       " ('i', 'r', 's'),\n",
       " ('n', 'g', 'e'),\n",
       " ('r', ' ', '&'),\n",
       " ('r', 's', 't'),\n",
       " ('s', 't', ' '),\n",
       " ('t', ' ', '&'),\n",
       " ('t', 'h', 'i'),\n",
       " ('u', 'n', 'g')}"
      ]
     },
     "execution_count": 27,
     "metadata": {},
     "output_type": "execute_result"
    }
   ],
   "source": [
    "union = shingles1.union(shingles2)\n",
    "union"
   ]
  },
  {
   "cell_type": "code",
   "execution_count": 28,
   "metadata": {},
   "outputs": [
    {
     "name": "stdout",
     "output_type": "stream",
     "text": [
      "0.5294117647058824\n",
      "0.5294117647058824\n"
     ]
    }
   ],
   "source": [
    "print(len(intersection)/len(union))\n",
    "print(9/17)"
   ]
  },
  {
   "cell_type": "markdown",
   "metadata": {},
   "source": [
    "Let's put that idea into a function:"
   ]
  },
  {
   "cell_type": "code",
   "execution_count": 29,
   "metadata": {},
   "outputs": [],
   "source": [
    "def shingles_similarity(s1, s2, k):\n",
    "    shingles1 = shingles_set(s1, k)\n",
    "    shingles2 = shingles_set(s2, k)\n",
    "    return(len(shingles1.intersection(shingles2)) / len(shingles1.union(shingles2)))\n"
   ]
  },
  {
   "cell_type": "markdown",
   "metadata": {},
   "source": [
    "Let's revisit two of our examples from before, and see that our new similarity measure does consider them as similar:"
   ]
  },
  {
   "cell_type": "code",
   "execution_count": 30,
   "metadata": {},
   "outputs": [
    {
     "name": "stdout",
     "output_type": "stream",
     "text": [
      "0.9152542372881356\n"
     ]
    }
   ],
   "source": [
    "str1 = \"The world reacts to the death of physicist Stephen Hawking\"\n",
    "str2 = \"The world reacts to the death of physicist Stephen Hawking The world reacts to the death of physicist Stephen Hawking\"\n",
    "\n",
    "print(shingles_similarity(str1, str2, 5))"
   ]
  },
  {
   "cell_type": "code",
   "execution_count": 31,
   "metadata": {},
   "outputs": [
    {
     "name": "stdout",
     "output_type": "stream",
     "text": [
      "0.8241758241758241\n"
     ]
    }
   ],
   "source": [
    "str1 = \"Prime Minister Theresa May emphasises 'The UK is proud to stand side by side with Israel'\"\n",
    "str2 = \"'The UK is proud to stand side by side with Israel' emphasises Prime Minister Theresa May\"\n",
    "\n",
    "print(shingles_similarity(str1, str2, 5))"
   ]
  },
  {
   "cell_type": "markdown",
   "metadata": {},
   "source": [
    "Here are 200 news headlines about the death of physicist Stephen Hawking:"
   ]
  },
  {
   "cell_type": "code",
   "execution_count": 32,
   "metadata": {},
   "outputs": [
    {
     "data": {
      "text/html": [
       "<div>\n",
       "<style scoped>\n",
       "    .dataframe tbody tr th:only-of-type {\n",
       "        vertical-align: middle;\n",
       "    }\n",
       "\n",
       "    .dataframe tbody tr th {\n",
       "        vertical-align: top;\n",
       "    }\n",
       "\n",
       "    .dataframe thead th {\n",
       "        text-align: right;\n",
       "    }\n",
       "</style>\n",
       "<table border=\"1\" class=\"dataframe\">\n",
       "  <thead>\n",
       "    <tr style=\"text-align: right;\">\n",
       "      <th></th>\n",
       "      <th>text</th>\n",
       "    </tr>\n",
       "  </thead>\n",
       "  <tbody>\n",
       "    <tr>\n",
       "      <th>0</th>\n",
       "      <td>Theoretical Physicist Stephen Hawking Dies at 76</td>\n",
       "    </tr>\n",
       "    <tr>\n",
       "      <th>1</th>\n",
       "      <td>Renowned Physicist Stephen Hawking dies at 76</td>\n",
       "    </tr>\n",
       "    <tr>\n",
       "      <th>2</th>\n",
       "      <td>Theoretical Physicist Stephen Hawking has Died at 76</td>\n",
       "    </tr>\n",
       "    <tr>\n",
       "      <th>3</th>\n",
       "      <td>Theoretical physicist Stephen Hawking has died at 76</td>\n",
       "    </tr>\n",
       "    <tr>\n",
       "      <th>4</th>\n",
       "      <td>Physicist Stephen Hawking dies at 76</td>\n",
       "    </tr>\n",
       "    <tr>\n",
       "      <th>5</th>\n",
       "      <td>Physicist Stephen Hawking dies at 76</td>\n",
       "    </tr>\n",
       "    <tr>\n",
       "      <th>6</th>\n",
       "      <td>British theoretical physicist Stephen Hawking dies at 76</td>\n",
       "    </tr>\n",
       "    <tr>\n",
       "      <th>7</th>\n",
       "      <td>Brilliant, popular physicist Stephen Hawking dies at 76</td>\n",
       "    </tr>\n",
       "    <tr>\n",
       "      <th>8</th>\n",
       "      <td>Brilliant, popular physicist Stephen Hawking dies at 76</td>\n",
       "    </tr>\n",
       "    <tr>\n",
       "      <th>9</th>\n",
       "      <td>Brilliant, popular physicist Stephen Hawking dies at 76</td>\n",
       "    </tr>\n",
       "    <tr>\n",
       "      <th>10</th>\n",
       "      <td>Brilliant, popular physicist Stephen Hawking dies at 76</td>\n",
       "    </tr>\n",
       "    <tr>\n",
       "      <th>11</th>\n",
       "      <td>Stephen Hawking, legendary physicist, dies at 76, family says</td>\n",
       "    </tr>\n",
       "    <tr>\n",
       "      <th>12</th>\n",
       "      <td>Stephen Hawking, tourist of the universe, dead at 76</td>\n",
       "    </tr>\n",
       "    <tr>\n",
       "      <th>13</th>\n",
       "      <td>Stephen Hawking, tourist of the universe, dead at 76</td>\n",
       "    </tr>\n",
       "    <tr>\n",
       "      <th>14</th>\n",
       "      <td>Stephen Hawking, tourist of the universe, dead at 76</td>\n",
       "    </tr>\n",
       "  </tbody>\n",
       "</table>\n",
       "</div>"
      ],
      "text/plain": [
       "                                                             text\n",
       "0   Theoretical Physicist Stephen Hawking Dies at 76             \n",
       "1   Renowned Physicist Stephen Hawking dies at 76                \n",
       "2   Theoretical Physicist Stephen Hawking has Died at 76         \n",
       "3   Theoretical physicist Stephen Hawking has died at 76         \n",
       "4   Physicist Stephen Hawking dies at 76                         \n",
       "5   Physicist Stephen Hawking dies at 76                         \n",
       "6   British theoretical physicist Stephen Hawking dies at 76     \n",
       "7   Brilliant, popular physicist Stephen Hawking dies at 76      \n",
       "8   Brilliant, popular physicist Stephen Hawking dies at 76      \n",
       "9   Brilliant, popular physicist Stephen Hawking dies at 76      \n",
       "10  Brilliant, popular physicist Stephen Hawking dies at 76      \n",
       "11  Stephen Hawking, legendary physicist, dies at 76, family says\n",
       "12  Stephen Hawking, tourist of the universe, dead at 76         \n",
       "13  Stephen Hawking, tourist of the universe, dead at 76         \n",
       "14  Stephen Hawking, tourist of the universe, dead at 76         "
      ]
     },
     "execution_count": 32,
     "metadata": {},
     "output_type": "execute_result"
    }
   ],
   "source": [
    "stephen_hawking_df = pd.read_csv(\"stephen-hawking-headlines.csv\")\n",
    "stephen_hawking_df.head(15)"
   ]
  },
  {
   "cell_type": "markdown",
   "metadata": {},
   "source": [
    "Let's order the headlines by how \"similar\" they are too one headline that we've chosen:"
   ]
  },
  {
   "cell_type": "code",
   "execution_count": 33,
   "metadata": {},
   "outputs": [
    {
     "data": {
      "text/html": [
       "<div>\n",
       "<style scoped>\n",
       "    .dataframe tbody tr th:only-of-type {\n",
       "        vertical-align: middle;\n",
       "    }\n",
       "\n",
       "    .dataframe tbody tr th {\n",
       "        vertical-align: top;\n",
       "    }\n",
       "\n",
       "    .dataframe thead th {\n",
       "        text-align: right;\n",
       "    }\n",
       "</style>\n",
       "<table border=\"1\" class=\"dataframe\">\n",
       "  <thead>\n",
       "    <tr style=\"text-align: right;\">\n",
       "      <th></th>\n",
       "      <th>text</th>\n",
       "      <th>Similarity</th>\n",
       "    </tr>\n",
       "  </thead>\n",
       "  <tbody>\n",
       "    <tr>\n",
       "      <th>24</th>\n",
       "      <td>Stephen Hawking, best-known physicist of his time, has died</td>\n",
       "      <td>1.000000</td>\n",
       "    </tr>\n",
       "    <tr>\n",
       "      <th>28</th>\n",
       "      <td>Stephen Hawking, best-known physicist of his time, has died</td>\n",
       "      <td>1.000000</td>\n",
       "    </tr>\n",
       "    <tr>\n",
       "      <th>25</th>\n",
       "      <td>Stephen Hawking, best-known physicist of his time, has died</td>\n",
       "      <td>1.000000</td>\n",
       "    </tr>\n",
       "    <tr>\n",
       "      <th>26</th>\n",
       "      <td>Stephen Hawking, best-known physicist of his time, has died</td>\n",
       "      <td>1.000000</td>\n",
       "    </tr>\n",
       "    <tr>\n",
       "      <th>27</th>\n",
       "      <td>Stephen Hawking, best-known physicist of his time, has died</td>\n",
       "      <td>1.000000</td>\n",
       "    </tr>\n",
       "    <tr>\n",
       "      <th>47</th>\n",
       "      <td>Stephen Hawking, best-known physicist of his time, has died - FeedPublish</td>\n",
       "      <td>0.797101</td>\n",
       "    </tr>\n",
       "    <tr>\n",
       "      <th>81</th>\n",
       "      <td>Stephen Hawking, best-known physicist of his time, has died - News - McPhersonSentinel - McPherson, KS - McPherson, KS</td>\n",
       "      <td>0.591398</td>\n",
       "    </tr>\n",
       "    <tr>\n",
       "      <th>46</th>\n",
       "      <td>Stephen Hawking, best-known theoretical physicist of his time, dies at 76 - Hartford Courant</td>\n",
       "      <td>0.444444</td>\n",
       "    </tr>\n",
       "    <tr>\n",
       "      <th>41</th>\n",
       "      <td>Renowned Physicist Stephen Hawking Has Died</td>\n",
       "      <td>0.323944</td>\n",
       "    </tr>\n",
       "    <tr>\n",
       "      <th>40</th>\n",
       "      <td>Renowned Physicist Stephen Hawking Has Died</td>\n",
       "      <td>0.323944</td>\n",
       "    </tr>\n",
       "    <tr>\n",
       "      <th>3</th>\n",
       "      <td>Theoretical physicist Stephen Hawking has died at 76</td>\n",
       "      <td>0.287500</td>\n",
       "    </tr>\n",
       "    <tr>\n",
       "      <th>2</th>\n",
       "      <td>Theoretical Physicist Stephen Hawking has Died at 76</td>\n",
       "      <td>0.287500</td>\n",
       "    </tr>\n",
       "    <tr>\n",
       "      <th>23</th>\n",
       "      <td>Theoretical physicist Stephen Hawking has died at 76 | tbo.com</td>\n",
       "      <td>0.255556</td>\n",
       "    </tr>\n",
       "    <tr>\n",
       "      <th>5</th>\n",
       "      <td>Physicist Stephen Hawking dies at 76</td>\n",
       "      <td>0.242857</td>\n",
       "    </tr>\n",
       "    <tr>\n",
       "      <th>4</th>\n",
       "      <td>Physicist Stephen Hawking dies at 76</td>\n",
       "      <td>0.242857</td>\n",
       "    </tr>\n",
       "  </tbody>\n",
       "</table>\n",
       "</div>"
      ],
      "text/plain": [
       "                                                                                                                      text  \\\n",
       "24  Stephen Hawking, best-known physicist of his time, has died                                                              \n",
       "28  Stephen Hawking, best-known physicist of his time, has died                                                              \n",
       "25  Stephen Hawking, best-known physicist of his time, has died                                                              \n",
       "26  Stephen Hawking, best-known physicist of his time, has died                                                              \n",
       "27  Stephen Hawking, best-known physicist of his time, has died                                                              \n",
       "47  Stephen Hawking, best-known physicist of his time, has died - FeedPublish                                                \n",
       "81  Stephen Hawking, best-known physicist of his time, has died - News - McPhersonSentinel - McPherson, KS - McPherson, KS   \n",
       "46  Stephen Hawking, best-known theoretical physicist of his time, dies at 76 - Hartford Courant                             \n",
       "41  Renowned Physicist Stephen Hawking Has Died                                                                              \n",
       "40  Renowned Physicist Stephen Hawking Has Died                                                                              \n",
       "3   Theoretical physicist Stephen Hawking has died at 76                                                                     \n",
       "2   Theoretical Physicist Stephen Hawking has Died at 76                                                                     \n",
       "23  Theoretical physicist Stephen Hawking has died at 76 | tbo.com                                                           \n",
       "5   Physicist Stephen Hawking dies at 76                                                                                     \n",
       "4   Physicist Stephen Hawking dies at 76                                                                                     \n",
       "\n",
       "    Similarity  \n",
       "24  1.000000    \n",
       "28  1.000000    \n",
       "25  1.000000    \n",
       "26  1.000000    \n",
       "27  1.000000    \n",
       "47  0.797101    \n",
       "81  0.591398    \n",
       "46  0.444444    \n",
       "41  0.323944    \n",
       "40  0.323944    \n",
       "3   0.287500    \n",
       "2   0.287500    \n",
       "23  0.255556    \n",
       "5   0.242857    \n",
       "4   0.242857    "
      ]
     },
     "execution_count": 33,
     "metadata": {},
     "output_type": "execute_result"
    }
   ],
   "source": [
    "headline = \"Stephen Hawking, best-known physicist of his time, has died\"\n",
    "\n",
    "stephen_hawking_df['Similarity'] = stephen_hawking_df['text'].apply(\n",
    "    lambda s: shingles_similarity(headline.casefold(), s.casefold(), 5))\n",
    "\n",
    "stephen_hawking_df.sort_values('Similarity', ascending=False).head(15)"
   ]
  },
  {
   "cell_type": "code",
   "execution_count": 34,
   "metadata": {},
   "outputs": [
    {
     "data": {
      "text/html": [
       "<div>\n",
       "<style scoped>\n",
       "    .dataframe tbody tr th:only-of-type {\n",
       "        vertical-align: middle;\n",
       "    }\n",
       "\n",
       "    .dataframe tbody tr th {\n",
       "        vertical-align: top;\n",
       "    }\n",
       "\n",
       "    .dataframe thead th {\n",
       "        text-align: right;\n",
       "    }\n",
       "</style>\n",
       "<table border=\"1\" class=\"dataframe\">\n",
       "  <thead>\n",
       "    <tr style=\"text-align: right;\">\n",
       "      <th></th>\n",
       "      <th>text</th>\n",
       "      <th>Similarity</th>\n",
       "    </tr>\n",
       "  </thead>\n",
       "  <tbody>\n",
       "    <tr>\n",
       "      <th>199</th>\n",
       "      <td>Review: Lorde is better than ever during Oakland concert</td>\n",
       "      <td>0.0</td>\n",
       "    </tr>\n",
       "    <tr>\n",
       "      <th>172</th>\n",
       "      <td>Celebrate Chili's birthday with $3.13 margaritas March 13</td>\n",
       "      <td>0.0</td>\n",
       "    </tr>\n",
       "    <tr>\n",
       "      <th>173</th>\n",
       "      <td>Celebrate Chili's birthday with $3.13 margaritas March 13</td>\n",
       "      <td>0.0</td>\n",
       "    </tr>\n",
       "    <tr>\n",
       "      <th>175</th>\n",
       "      <td>Space and Earth Sciences News :: Global tributes pour in</td>\n",
       "      <td>0.0</td>\n",
       "    </tr>\n",
       "    <tr>\n",
       "      <th>176</th>\n",
       "      <td>The social media campaign that threw motor neurone disease into the spotlight | Epsom Guardian</td>\n",
       "      <td>0.0</td>\n",
       "    </tr>\n",
       "    <tr>\n",
       "      <th>167</th>\n",
       "      <td>2018-03-14: News Headlines | Positive Universe</td>\n",
       "      <td>0.0</td>\n",
       "    </tr>\n",
       "    <tr>\n",
       "      <th>198</th>\n",
       "      <td>Is it possible arming teachers is not a good idea?</td>\n",
       "      <td>0.0</td>\n",
       "    </tr>\n",
       "    <tr>\n",
       "      <th>180</th>\n",
       "      <td>Science and Faith: Beyond the Evolution and Creation Debate Online Course</td>\n",
       "      <td>0.0</td>\n",
       "    </tr>\n",
       "    <tr>\n",
       "      <th>181</th>\n",
       "      <td>Lok Sabha passes budget without debate; both Houses adjourn amid ruckus</td>\n",
       "      <td>0.0</td>\n",
       "    </tr>\n",
       "    <tr>\n",
       "      <th>182</th>\n",
       "      <td>LS passes budget without debate; both Houses adjourn amid din</td>\n",
       "      <td>0.0</td>\n",
       "    </tr>\n",
       "    <tr>\n",
       "      <th>183</th>\n",
       "      <td>Motor Neurone Disease Symptoms And Prognosis Explained</td>\n",
       "      <td>0.0</td>\n",
       "    </tr>\n",
       "    <tr>\n",
       "      <th>171</th>\n",
       "      <td>Celebrate Chili's birthday with $3.13 margaritas March 13</td>\n",
       "      <td>0.0</td>\n",
       "    </tr>\n",
       "    <tr>\n",
       "      <th>185</th>\n",
       "      <td>British scientist</td>\n",
       "      <td>0.0</td>\n",
       "    </tr>\n",
       "    <tr>\n",
       "      <th>184</th>\n",
       "      <td>Cheltenham Gold Cup Ladies' Day: Babes flash the flesh as event gets under way | Daily Star</td>\n",
       "      <td>0.0</td>\n",
       "    </tr>\n",
       "    <tr>\n",
       "      <th>187</th>\n",
       "      <td>L Sydney Fisher discusses her latest book based on a true crime with a paranormal twist | Talk 1370am</td>\n",
       "      <td>0.0</td>\n",
       "    </tr>\n",
       "  </tbody>\n",
       "</table>\n",
       "</div>"
      ],
      "text/plain": [
       "                                                                                                      text  \\\n",
       "199  Review: Lorde is better than ever during Oakland concert                                                \n",
       "172  Celebrate Chili's birthday with $3.13 margaritas March 13                                               \n",
       "173  Celebrate Chili's birthday with $3.13 margaritas March 13                                               \n",
       "175  Space and Earth Sciences News :: Global tributes pour in                                                \n",
       "176  The social media campaign that threw motor neurone disease into the spotlight | Epsom Guardian          \n",
       "167  2018-03-14: News Headlines | Positive Universe                                                          \n",
       "198  Is it possible arming teachers is not a good idea?                                                      \n",
       "180  Science and Faith: Beyond the Evolution and Creation Debate Online Course                               \n",
       "181  Lok Sabha passes budget without debate; both Houses adjourn amid ruckus                                 \n",
       "182  LS passes budget without debate; both Houses adjourn amid din                                           \n",
       "183  Motor Neurone Disease Symptoms And Prognosis Explained                                                  \n",
       "171  Celebrate Chili's birthday with $3.13 margaritas March 13                                               \n",
       "185  British scientist                                                                                       \n",
       "184  Cheltenham Gold Cup Ladies' Day: Babes flash the flesh as event gets under way | Daily Star             \n",
       "187  L Sydney Fisher discusses her latest book based on a true crime with a paranormal twist | Talk 1370am   \n",
       "\n",
       "     Similarity  \n",
       "199  0.0         \n",
       "172  0.0         \n",
       "173  0.0         \n",
       "175  0.0         \n",
       "176  0.0         \n",
       "167  0.0         \n",
       "198  0.0         \n",
       "180  0.0         \n",
       "181  0.0         \n",
       "182  0.0         \n",
       "183  0.0         \n",
       "171  0.0         \n",
       "185  0.0         \n",
       "184  0.0         \n",
       "187  0.0         "
      ]
     },
     "execution_count": 34,
     "metadata": {},
     "output_type": "execute_result"
    }
   ],
   "source": [
    "stephen_hawking_df.sort_values('Similarity').head(15)"
   ]
  },
  {
   "cell_type": "markdown",
   "metadata": {},
   "source": [
    "**Caveat 1:** You will need to choose $k$ appropriately for your dataset; a good choice of $k$ will be affected by, among other things, the typical length of your strings. Choosing $k$ too small for your data will result in strings that you feel are very different being considered as similar. Choosing $k$ too large for your data will result in strings that you feel are similar being treated as different."
   ]
  },
  {
   "cell_type": "markdown",
   "metadata": {},
   "source": [
    "\n",
    "In the above, to keep the code simple, we are repeatedly computing the set of shingles of each headline. It would be more efficient to compute each one only once...\n",
    "\n",
    "One cool thing about this similarity measure is that it can be turned into an algorithm called [Minhash](https://en.wikipedia.org/wiki/MinHash) for doing approximate deduplication in _ENORMOUS_ collections of documents.\n"
   ]
  },
  {
   "cell_type": "markdown",
   "metadata": {},
   "source": [
    "### Final remark\n",
    "\n"
   ]
  },
  {
   "cell_type": "markdown",
   "metadata": {},
   "source": [
    "We have seen three ways of measuring the similarity of text strings. There are many others, which you can read about online.\n",
    "\n",
    "Rather than having a \"one size fits all\" function for string similarity that you always use, it is much better to think about what kinds of strings _YOU_ need to consider as similar for your use-case, and choosing an appropriate similarity measure based on that."
   ]
  },
  {
   "cell_type": "code",
   "execution_count": null,
   "metadata": {},
   "outputs": [],
   "source": []
  }
 ],
 "metadata": {
  "kernelspec": {
   "display_name": "Python 3",
   "language": "python",
   "name": "python3"
  },
  "language_info": {
   "codemirror_mode": {
    "name": "ipython",
    "version": 3
   },
   "file_extension": ".py",
   "mimetype": "text/x-python",
   "name": "python",
   "nbconvert_exporter": "python",
   "pygments_lexer": "ipython3",
   "version": "3.7.2"
  }
 },
 "nbformat": 4,
 "nbformat_minor": 2
}
