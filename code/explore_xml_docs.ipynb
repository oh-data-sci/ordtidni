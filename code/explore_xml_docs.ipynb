{
 "cells": [
  {
   "cell_type": "code",
   "execution_count": 4,
   "metadata": {},
   "outputs": [],
   "source": [
    "import os\n",
    "import re\n",
    "import xml.etree.ElementTree as et"
   ]
  },
  {
   "cell_type": "code",
   "execution_count": null,
   "metadata": {},
   "outputs": [],
   "source": []
  },
  {
   "cell_type": "code",
   "execution_count": 73,
   "metadata": {},
   "outputs": [],
   "source": [
    "# a possible solution\n",
    "def scrape_directory_tree(starting_dir, file_ending):\n",
    "    if starting_dir:\n",
    "        try:\n",
    "            assert os.path.isdir(starting_dir) # do not pass a filename\n",
    "        except:\n",
    "            print(starting_dir, 'is not a directory?')\n",
    "            return None\n",
    "    matching_files = []\n",
    "    for current_dir, directories, files in os.walk(starting_dir, topdown=True):\n",
    "       for filename in files:\n",
    "           if filename.endswith(file_ending):\n",
    "               matching_files.append(os.path.join(current_dir, filename))\n",
    "    print('found', len(matching_files), 'files ending in', file_ending)\n",
    "    return matching_files\n",
    "\n",
    "def list_files_by_size(filepathlist, decreasing=True):\n",
    "    sorted_files = sorted(filepathlist, key=os.path.getsize, reverse=decreasing)\n",
    "    return sorted_files\n",
    "\n",
    "def get_root_tag(xml_filepath):\n",
    "    return et.parse(filepath).getroot()\n",
    "\n",
    "def get_text_paragraphs(xml_root,namespace={'tei': 'http://www.tei-c.org/ns/1.0'}):\n",
    "    # given the root tag of a well formed tei xml file\n",
    "    # assumes there is only a single div tag and returns\n",
    "    # a list of paragraph tags inside\n",
    "    text_pars = xml_root\\\n",
    "        .find('tei:text', namespace)\\\n",
    "        .find('tei:body', namespace)\\\n",
    "        .find('tei:div1', namespace)\\\n",
    "        .findall('tei:p', namespace)\n",
    "    return text_pars\n",
    "\n",
    "def get_text_divs(xml_root, namespace={'tei': 'http://www.tei-c.org/ns/1.0'}):\n",
    "    # given the root tag of a well formed tei xml file, \n",
    "    # returns a list of the div tags in the text body.\n",
    "    text_divs = xml_root\\\n",
    "        .find('tei:text', namespace)\\\n",
    "        .find('tei:body', namespace)\\\n",
    "        .findall('tei:div1', namespace)\n",
    "    return text_divs\n",
    "\n",
    "def get_div_paragraphs(text_divs, namespace={'tei': 'http://www.tei-c.org/ns/1.0'}):\n",
    "    \"\"\"\n",
    "    given a list of div tags of a well formed tei xml file\n",
    "    returns a concatenated list of all paragraphs found in \n",
    "    all the divs\n",
    "    \"\"\"\n",
    "    div_pars = []\n",
    "    for div in text_divs:\n",
    "        div_pars.extend(div.findall('tei:p', namespace))\n",
    "    return div_pars\n",
    "\n",
    "def get_paragraph_lemmas(text_paragraphs, namespace={'tei': 'http://www.tei-c.org/ns/1.0'}):\n",
    "    text_lemmas = []\n",
    "    for paragraph in text_pars:\n",
    "        for sentence in paragraph.findall('tei:s', namespace):\n",
    "            for word in sentence.findall('tei:w',namespace):\n",
    "                text_lemmas.append(word.attrib['lemma'].lower())\n",
    "                #print(word.attrib['lemma'].lower())\n",
    "    return text_lemmas\n",
    "\n",
    "def get_paragraph_words(text_paragraphs, namespace={'tei': 'http://www.tei-c.org/ns/1.0'}):\n",
    "    text_words = []\n",
    "    for paragraph in text_pars:\n",
    "        for sentence in paragraph.findall('tei:s', namespace):\n",
    "            for word in sentence.findall('tei:w',namespace):\n",
    "                text_words.append(word.attrib['lemma'].lower())\n",
    "                #print(word.attrib['lemma'].lower())\n",
    "    return text_lemmas"
   ]
  },
  {
   "cell_type": "code",
   "execution_count": 65,
   "metadata": {},
   "outputs": [
    {
     "data": {
      "text/plain": [
       "['G-15-3162012.xml']"
      ]
     },
     "execution_count": 65,
     "metadata": {},
     "output_type": "execute_result"
    }
   ],
   "source": [
    "# establish the data folder:\n",
    "# USER_HOME = os.path.expanduser('~')\n",
    "# path to root directory of the project.\n",
    "#BASE_DIR = os.path.join(USER_HOME, 'annad/ordtidni/') \n",
    "BASE_DIR = os.path.join('.', '..') \n",
    "DATA_DIR = os.path.join(BASE_DIR, 'data/')\n",
    "\n",
    "filenames = [f for f in os.listdir(DATA_DIR) if re.match(r'.*\\.xml', f)]\n",
    "filenames"
   ]
  },
  {
   "cell_type": "code",
   "execution_count": 66,
   "metadata": {},
   "outputs": [],
   "source": [
    "filelist = scrape_directory_tree(DATA_DIR, 'xml')\n",
    "filelist_by_size = list_files_by_size(filelist)"
   ]
  },
  {
   "cell_type": "code",
   "execution_count": 67,
   "metadata": {},
   "outputs": [],
   "source": [
    "filename = filenames[0]\n",
    "filepath = os.path.join(DATA_DIR, filename) \n",
    "tree = et.parse(filepath)\n",
    "root = tree.getroot()"
   ]
  },
  {
   "cell_type": "code",
   "execution_count": 72,
   "metadata": {},
   "outputs": [
    {
     "name": "stdout",
     "output_type": "stream",
     "text": [
      "['neytendasamtök', 'á', 'norðurlönd', 'hafa', 'senda', 'frá', 'sig', 'yfirlýsing', 'þar', 'sem', 'það', 'krefja', 'það', 'að', 'bann', 'verða', 'leggja', 'við', 'blöndun', 'fúkkalyf', 'í', 'fóður', 'dýr', 'á', 'allur', 'ees-svæði', 'í', 'yfirlýsing', 'segja', 'að', 'fúkkalyf', 'vera', 'bæta', 'í', 'dýrafóður', 'til', 'að', 'örva', 'vöxtur', 'dýr', 'og', 'fyrirbyggja', 'sjúkdómur', 'og', 'að', 'mikill', 'notkun', 'fúkkalyf', 'auka', 'hætta', 'á', 'ónæmi', 'bæði', 'hjá', 'maður', 'og', 'dýr', 'baktería', 'sem', 'mynda', 'hafa', 'ónæmi', 'geta', 'valda', 'ónæmi', 'hjá', 'annar', 'baktería', 'hún', 'geta', 'síðan', 'bera', 'frá', 'dýr', 'í', 'maður', 'í', 'gegn', 'um', 'matarkeðja', 'og', 'valda', 'ónæmi', 'hjá', 'maður', 'á', 'fjórir', 'norðurlönd', 'gilda', 'strangi', 'relur', 'um', 'notkun', 'fúkkalyf', 'og', 'neytendasamtök', 'þar', 'óttast', 'að', 'samningur', 'innan', 'alþjóðaviðskiptastofnun', 'wto', 'munu', 'veikja', 'sá', 'regla', 'sem', 'þar', 'gilda', 'samtök', 'telja', 'að', 'neikvæður', 'skilaboð', 'hafa', 'bera', 'frá', 'evrópusamband', 'og', 'því', 'setja', 'það', 'fram', 'krafa', 'um', 'heilsusamlegur', 'búskaparháttur', 'bann', 'við', 'fúkkalyf', 'í', 'fóður', 'og', 'að', 'ákvörðun', 'um', 'notkun', 'fúkkalyf', 'verða', 'alltaf', 'taka', 'af', 'dýralæknir']\n"
     ]
    }
   ],
   "source": [
    "namespace = {'tei': 'http://www.tei-c.org/ns/1.0'}\n",
    "root = get_root_tag(filepath)\n",
    "divs = get_text_divs(root,namespace)\n",
    "pars = get_div_paragraphs(divs, namespace)\n",
    "lemma_list = get_paragraph_lemmas(pars, namespace)\n",
    "print(lemma_list)"
   ]
  },
  {
   "cell_type": "code",
   "execution_count": 69,
   "metadata": {},
   "outputs": [
    {
     "data": {
      "text/plain": [
       "[<Element '{http://www.tei-c.org/ns/1.0}p' at 0x10a5f61d8>]"
      ]
     },
     "execution_count": 69,
     "metadata": {},
     "output_type": "execute_result"
    }
   ],
   "source": [
    "div_pars = []\n",
    "for div in divs:\n",
    "    div_pars.extend(div.findall('tei:p', namespace))\n",
    "div_pars"
   ]
  },
  {
   "cell_type": "code",
   "execution_count": 24,
   "metadata": {},
   "outputs": [
    {
     "name": "stdout",
     "output_type": "stream",
     "text": [
      "{http://www.tei-c.org/ns/1.0}TEI\n",
      "\n",
      "  \n",
      "{}\n",
      "None\n",
      "<Element '{http://www.tei-c.org/ns/1.0}text' at 0x10a221458>\n"
     ]
    }
   ],
   "source": [
    "print(root.tag)\n",
    "print(root.text)\n",
    "print(root.attrib)\n",
    "print(root.get('TEI'))\n",
    "namespace = {'tei': 'http://www.tei-c.org/ns/1.0'}\n",
    "#print(root.get('TEI').get('teiHeader'))\n",
    "print(root.find('tei:text', namespace))"
   ]
  },
  {
   "cell_type": "code",
   "execution_count": 39,
   "metadata": {},
   "outputs": [],
   "source": [
    "# print(root.find('tei:text', namespace))\n",
    "text_root = root.find('tei:text', namespace)\n",
    "# print(text_root.find('tei:body', namespace))\n",
    "text_body = text_root.find('tei:body', namespace)\n",
    "# print(text_body)\n",
    "text_div = text_body.find('tei:div1', namespace)\n",
    "# print(text_div)\n",
    "text_pars = text_div.findall('tei:p', namespace)"
   ]
  },
  {
   "cell_type": "code",
   "execution_count": 38,
   "metadata": {},
   "outputs": [
    {
     "name": "stdout",
     "output_type": "stream",
     "text": [
      "144\n",
      "['neytendasamtök', 'á', 'norðurlönd', 'hafa', 'senda'] ... ['verða', 'alltaf', 'taka', 'af']\n"
     ]
    }
   ],
   "source": [
    "text_lemmas = []\n",
    "text_words = []\n",
    "for paragraph in text_pars:\n",
    "    #print(paragraph, paragraph.tag, paragraph.attrib, paragraph.text)\n",
    "    for sentence in paragraph.findall('tei:s', namespace):\n",
    "        for word in sentence.findall('tei:w',namespace):\n",
    "            text_lemmas.append(word.attrib['lemma'].lower())\n",
    "            text_words.append(word.text.lower())\n",
    "            #print(word.attrib['lemma'].lower())\n",
    "print(len(text_lemmas))\n",
    "print(text_lemmas[0:5], \"...\", text_lemmas[-5:-1])"
   ]
  },
  {
   "cell_type": "code",
   "execution_count": 20,
   "metadata": {},
   "outputs": [
    {
     "name": "stdout",
     "output_type": "stream",
     "text": [
      "tag {http://www.tei-c.org/ns/1.0}teiHeader {} \n",
      "    \n",
      "tag {http://www.tei-c.org/ns/1.0}text {} \n",
      "    \n"
     ]
    }
   ],
   "source": [
    "\n",
    "for child in root:\n",
    "    print('tag=', child.tag, child.attrib, child.text)"
   ]
  },
  {
   "cell_type": "code",
   "execution_count": null,
   "metadata": {},
   "outputs": [],
   "source": []
  }
 ],
 "metadata": {
  "kernelspec": {
   "display_name": "Python 3",
   "language": "python",
   "name": "python3"
  },
  "language_info": {
   "codemirror_mode": {
    "name": "ipython",
    "version": 3
   },
   "file_extension": ".py",
   "mimetype": "text/x-python",
   "name": "python",
   "nbconvert_exporter": "python",
   "pygments_lexer": "ipython3",
   "version": "3.7.2"
  }
 },
 "nbformat": 4,
 "nbformat_minor": 2
}
