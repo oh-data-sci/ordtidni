{
 "cells": [
  {
   "cell_type": "code",
   "execution_count": 1,
   "metadata": {},
   "outputs": [],
   "source": [
    "import os\n",
    "import pandas as pd\n",
    "import re\n",
    "import xml.etree.ElementTree as et\n",
    "#\n",
    "from xml_utilities import scrape_directory_tree\n",
    "from xml_utilities import list_files_by_size\n",
    "from xml_utilities import get_root_tag\n",
    "from xml_utilities import get_text_paragraphs\n",
    "from xml_utilities import get_text_divs\n",
    "from xml_utilities import get_div_paragraphs\n",
    "from xml_utilities import get_paragraphs_sentences\n",
    "from xml_utilities import get_sentence_lemmas\n",
    "from xml_utilities import get_sentence_words\n",
    "from xml_utilities import get_paragraph_lemmas\n",
    "from xml_utilities import get_paragraph_words\n",
    "from xml_utilities import get_sentence_lemma_word_pos"
   ]
  },
  {
   "cell_type": "code",
   "execution_count": 2,
   "metadata": {},
   "outputs": [],
   "source": [
    "# establish the data folder:\n",
    "USER_HOME = os.path.expanduser('~')\n",
    "# path to root directory of the project.\n",
    "BASE_DIR = os.path.join(USER_HOME, 'annad/ordtidni/') \n",
    "#BASE_DIR = os.path.join('.', '..') \n",
    "DATA_DIR = os.path.join(BASE_DIR, 'data/')\n",
    "namespace = {'tei': 'http://www.tei-c.org/ns/1.0'} # constant"
   ]
  },
  {
   "cell_type": "code",
   "execution_count": null,
   "metadata": {},
   "outputs": [],
   "source": [
    "%%timeit\n",
    "xml_filepaths = scrape_directory_tree(DATA_DIR, 'xml')\n",
    "num_files = len(xml_filepaths)\n",
    "print('about to parse', \n",
    "      num_files, \n",
    "      'xml files, e.g.', \n",
    "      xml_filepaths[0:2])"
   ]
  },
  {
   "cell_type": "code",
   "execution_count": 24,
   "metadata": {},
   "outputs": [
    {
     "name": "stdout",
     "output_type": "stream",
     "text": [
      "found 343 files ending in xml\n",
      "about to parse 343 xml files, e.g. ['/Users/oholm/annad/ordtidni/data/G-15-3162012.xml', '/Users/oholm/annad/ordtidni/data/10/G-25-2500475.xml']\n",
      "found 37454 lemmas, words, pos in 343 files\n",
      "found 343 files ending in xml\n",
      "about to parse 343 xml files, e.g. ['/Users/oholm/annad/ordtidni/data/G-15-3162012.xml', '/Users/oholm/annad/ordtidni/data/10/G-25-2500475.xml']\n",
      "found 37454 lemmas, words, pos in 343 files\n",
      "found 343 files ending in xml\n",
      "about to parse 343 xml files, e.g. ['/Users/oholm/annad/ordtidni/data/G-15-3162012.xml', '/Users/oholm/annad/ordtidni/data/10/G-25-2500475.xml']\n",
      "found 37454 lemmas, words, pos in 343 files\n",
      "found 343 files ending in xml\n",
      "about to parse 343 xml files, e.g. ['/Users/oholm/annad/ordtidni/data/G-15-3162012.xml', '/Users/oholm/annad/ordtidni/data/10/G-25-2500475.xml']\n",
      "found 37454 lemmas, words, pos in 343 files\n",
      "found 343 files ending in xml\n",
      "about to parse 343 xml files, e.g. ['/Users/oholm/annad/ordtidni/data/G-15-3162012.xml', '/Users/oholm/annad/ordtidni/data/10/G-25-2500475.xml']\n",
      "found 37454 lemmas, words, pos in 343 files\n",
      "found 343 files ending in xml\n",
      "about to parse 343 xml files, e.g. ['/Users/oholm/annad/ordtidni/data/G-15-3162012.xml', '/Users/oholm/annad/ordtidni/data/10/G-25-2500475.xml']\n",
      "found 37454 lemmas, words, pos in 343 files\n",
      "found 343 files ending in xml\n",
      "about to parse 343 xml files, e.g. ['/Users/oholm/annad/ordtidni/data/G-15-3162012.xml', '/Users/oholm/annad/ordtidni/data/10/G-25-2500475.xml']\n",
      "found 37454 lemmas, words, pos in 343 files\n",
      "found 343 files ending in xml\n",
      "about to parse 343 xml files, e.g. ['/Users/oholm/annad/ordtidni/data/G-15-3162012.xml', '/Users/oholm/annad/ordtidni/data/10/G-25-2500475.xml']\n",
      "found 37454 lemmas, words, pos in 343 files\n",
      "1.61 s ± 159 ms per loop (mean ± std. dev. of 7 runs, 1 loop each)\n"
     ]
    }
   ],
   "source": [
    "total_df = pd.DataFrame(columns=['lemma', 'word', 'pos'])\n",
    "for filepath in xml_filepaths:\n",
    "    root = get_root_tag(filepath)\n",
    "    divs = get_text_divs(root,namespace)\n",
    "    pars = get_div_paragraphs(divs, namespace)\n",
    "    sentences = get_paragraphs_sentences(pars, namespace)\n",
    "    file_df = get_sentence_lemma_word_pos(sentences, namespace)\n",
    "    total_df = total_df.append(file_df, ignore_index=True)\n",
    "print('found', len(total_df), 'lemmas, words, pos in', num_files, 'files')"
   ]
  },
  {
   "cell_type": "code",
   "execution_count": 23,
   "metadata": {},
   "outputs": [
    {
     "data": {
      "text/html": [
       "<div>\n",
       "<style scoped>\n",
       "    .dataframe tbody tr th:only-of-type {\n",
       "        vertical-align: middle;\n",
       "    }\n",
       "\n",
       "    .dataframe tbody tr th {\n",
       "        vertical-align: top;\n",
       "    }\n",
       "\n",
       "    .dataframe thead th {\n",
       "        text-align: right;\n",
       "    }\n",
       "</style>\n",
       "<table border=\"1\" class=\"dataframe\">\n",
       "  <thead>\n",
       "    <tr style=\"text-align: right;\">\n",
       "      <th></th>\n",
       "      <th>lemma</th>\n",
       "      <th>word</th>\n",
       "      <th>pos</th>\n",
       "    </tr>\n",
       "  </thead>\n",
       "  <tbody>\n",
       "    <tr>\n",
       "      <th>26688</th>\n",
       "      <td>á</td>\n",
       "      <td>á</td>\n",
       "      <td>aþ</td>\n",
       "    </tr>\n",
       "    <tr>\n",
       "      <th>5904</th>\n",
       "      <td>í</td>\n",
       "      <td>í</td>\n",
       "      <td>aþ</td>\n",
       "    </tr>\n",
       "    <tr>\n",
       "      <th>35916</th>\n",
       "      <td>fyrirvari</td>\n",
       "      <td>fyrirvara</td>\n",
       "      <td>nkeþ</td>\n",
       "    </tr>\n",
       "    <tr>\n",
       "      <th>12622</th>\n",
       "      <td>landhelgisgæsla</td>\n",
       "      <td>landhelgisgæslunnar</td>\n",
       "      <td>nveegs</td>\n",
       "    </tr>\n",
       "    <tr>\n",
       "      <th>22119</th>\n",
       "      <td>hann</td>\n",
       "      <td>þeirra</td>\n",
       "      <td>fpkfe</td>\n",
       "    </tr>\n",
       "    <tr>\n",
       "      <th>7302</th>\n",
       "      <td>svona</td>\n",
       "      <td>svona</td>\n",
       "      <td>lkenof</td>\n",
       "    </tr>\n",
       "    <tr>\n",
       "      <th>9795</th>\n",
       "      <td>flutning</td>\n",
       "      <td>flutningum</td>\n",
       "      <td>nvfþ</td>\n",
       "    </tr>\n",
       "    <tr>\n",
       "      <th>14047</th>\n",
       "      <td>2004</td>\n",
       "      <td>2004</td>\n",
       "      <td>ta</td>\n",
       "    </tr>\n",
       "    <tr>\n",
       "      <th>11884</th>\n",
       "      <td>tillaga</td>\n",
       "      <td>tillögu</td>\n",
       "      <td>nveo</td>\n",
       "    </tr>\n",
       "    <tr>\n",
       "      <th>36698</th>\n",
       "      <td>áramót</td>\n",
       "      <td>áramót</td>\n",
       "      <td>nhfo</td>\n",
       "    </tr>\n",
       "  </tbody>\n",
       "</table>\n",
       "</div>"
      ],
      "text/plain": [
       "                 lemma                 word     pos\n",
       "26688                á                    á      aþ\n",
       "5904                 í                    í      aþ\n",
       "35916        fyrirvari            fyrirvara    nkeþ\n",
       "12622  landhelgisgæsla  landhelgisgæslunnar  nveegs\n",
       "22119             hann               þeirra   fpkfe\n",
       "7302             svona                svona  lkenof\n",
       "9795          flutning           flutningum    nvfþ\n",
       "14047             2004                 2004      ta\n",
       "11884          tillaga              tillögu    nveo\n",
       "36698           áramót               áramót    nhfo"
      ]
     },
     "metadata": {},
     "output_type": "display_data"
    }
   ],
   "source": [
    "display(total_df.sample(10))"
   ]
  },
  {
   "cell_type": "code",
   "execution_count": null,
   "metadata": {},
   "outputs": [],
   "source": []
  }
 ],
 "metadata": {
  "kernelspec": {
   "display_name": "Python 3",
   "language": "python",
   "name": "python3"
  },
  "language_info": {
   "codemirror_mode": {
    "name": "ipython",
    "version": 3
   },
   "file_extension": ".py",
   "mimetype": "text/x-python",
   "name": "python",
   "nbconvert_exporter": "python",
   "pygments_lexer": "ipython3",
   "version": "3.7.2"
  }
 },
 "nbformat": 4,
 "nbformat_minor": 2
}
